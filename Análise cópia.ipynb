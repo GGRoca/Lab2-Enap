{
 "cells": [
  {
   "cell_type": "code",
   "execution_count": 1,
   "id": "d8024492-c929-48ff-b8ac-40b654aa9945",
   "metadata": {
    "tags": []
   },
   "outputs": [],
   "source": [
    "# %%\n",
    "# =============================================================================\n",
    "# Passo 1: Importação de Bibliotecas\n",
    "# =============================================================================\n",
    "\n",
    "# Bibliotecas padrão\n",
    "import csv\n",
    "import gc\n",
    "from pathlib import Path\n",
    "\n",
    "# Bibliotecas de terceiros para análise e manipulação de dados\n",
    "import numpy as np\n",
    "import pandas as pd\n",
    "import openpyxl\n",
    "from scipy.stats import skew, kurtosis, ttest_ind\n",
    "\n",
    "# Bibliotecas para visualização de dados\n",
    "import matplotlib.pyplot as plt\n",
    "import seaborn as sns\n",
    "\n",
    "# Ferramentas de pré-processamento do Scikit-learn\n",
    "from sklearn.preprocessing import (\n",
    "    MinMaxScaler,\n",
    "    PowerTransformer,\n",
    "    RobustScaler,\n",
    "    StandardScaler,\n",
    ")"
   ]
  },
  {
   "cell_type": "code",
   "execution_count": 2,
   "id": "48b7eb85-f0d1-4bf9-a509-ddb7780109d0",
   "metadata": {
    "tags": []
   },
   "outputs": [],
   "source": [
    "# %%\n",
    "# =============================================================================\n",
    "# Passo 2: Carregamento e Concatenação dos Dados\n",
    "# =============================================================================\n",
    "\n",
    "# --- Funções de Leitura Robusta (sem alteração) ---\n",
    "def detectar_delimitador(caminho_arquivo: Path, tamanho_amostra: int = 65536) -> str:\n",
    "    with caminho_arquivo.open(\"rb\") as f:\n",
    "        amostra = f.read(tamanho_amostra)\n",
    "    for enc in (\"utf-8\", \"latin-1\", \"cp1252\"):\n",
    "        try:\n",
    "            texto = amostra.decode(enc, errors=\"strict\")\n",
    "            dialect = csv.Sniffer().sniff(texto, delimiters=\";,\")\n",
    "            return dialect.delimiter\n",
    "        except Exception:\n",
    "            continue\n",
    "    return \";\"\n",
    "\n",
    "def ler_csv_robusto(caminho_arquivo: Path) -> pd.DataFrame:\n",
    "    sep_detectado = detectar_delimitador(caminho_arquivo)\n",
    "    encodings = (\"utf-8-sig\", \"utf-8\", \"latin-1\", \"cp1252\")\n",
    "    erros = []\n",
    "    for enc in encodings:\n",
    "        try:\n",
    "            # Usar low_memory=False para evitar inferência de tipo por chuncks, prevenindo erros\n",
    "            return pd.read_csv(caminho_arquivo, sep=sep_detectado, encoding=enc, low_memory=False, engine=\"c\")\n",
    "        except Exception as e:\n",
    "            erros.append((f\"engine=c | {enc}\", str(e)))\n",
    "    \n",
    "    # Fallback para engine python se o 'c' falhar\n",
    "    for enc in encodings:\n",
    "        try:\n",
    "            return pd.read_csv(caminho_arquivo, sep=sep_detectado, encoding=enc, engine=\"python\", on_bad_lines=\"skip\")\n",
    "        except Exception as e:\n",
    "            erros.append((f\"engine=python | {enc}\", str(e)))\n",
    "            \n",
    "    msg = f\"Falha ao ler {caminho_arquivo.name}. Erros:\\\\n\" + \"\\\\n\".join([f\" - {ctx}: {err}\" for ctx, err in erros])\n",
    "    raise RuntimeError(msg)\n",
    "\n"
   ]
  },
  {
   "cell_type": "code",
   "execution_count": 3,
   "id": "b703fffd-e364-44fe-b213-aaf425a9a650",
   "metadata": {
    "tags": []
   },
   "outputs": [
    {
     "name": "stdout",
     "output_type": "stream",
     "text": [
      "Arquivos encontrados: 11\n",
      "[1/11] Lendo: RAIS_2014_Enap_amostra.csv ... ok (1128887 linhas, 37 colunas)\n",
      "[2/11] Lendo: RAIS_2015_Enap_amostra.csv ... ok (1090572 linhas, 37 colunas)\n",
      "[3/11] Lendo: RAIS_2016_Enap_amostra.csv ... ok (726162 linhas, 37 colunas)\n",
      "[4/11] Lendo: RAIS_2017_Enap_amostra.csv ... ok (1073850 linhas, 37 colunas)\n",
      "[5/11] Lendo: RAIS_2018_Enap_amostra.csv ... ok (1082710 linhas, 37 colunas)\n",
      "[6/11] Lendo: RAIS_2019_Enap_amostra.csv ... ok (796532 linhas, 37 colunas)\n",
      "[7/11] Lendo: RAIS_2020_Enap_amostra.csv ... ok (1109627 linhas, 37 colunas)\n",
      "[8/11] Lendo: RAIS_2021_Enap_amostra.csv ... ok (1199769 linhas, 37 colunas)\n",
      "[9/11] Lendo: RAIS_2022_Enap_amostra.csv ... ok (1245516 linhas, 37 colunas)\n",
      "[10/11] Lendo: RAIS_2023_Enap_amostra.csv ... ok (1328596 linhas, 37 colunas)\n",
      "[11/11] Lendo: RAIS_2024_Enap_amostra.csv ... ok (985182 linhas, 37 colunas)\n",
      "\\nConcatenando DataFrames...\n",
      "Dimensão final: (11767403, 37)\n"
     ]
    }
   ],
   "source": [
    "# --- Processo de Leitura e Concatenação ---\n",
    "\n",
    "# Caminho para a pasta com os arquivos CSV\n",
    "pasta_csvs = Path.cwd() / \"Bases\" / \"0_RAIS_Bases_Amostra\" / \"RAIS_Enap_amostra_\"\n",
    "assert pasta_csvs.exists(), f\"Pasta não encontrada: {pasta_csvs}\"\n",
    "\n",
    "# Listar e ler os arquivos\n",
    "arquivos_csv = sorted([p for p in pasta_csvs.glob(\"*.csv\")])\n",
    "if not arquivos_csv:\n",
    "    raise FileNotFoundError(\"Nenhum CSV encontrado na pasta indicada.\")\n",
    "\n",
    "print(f\"Arquivos encontrados: {len(arquivos_csv)}\")\n",
    "dataframes = []\n",
    "for idx, arq in enumerate(arquivos_csv, start=1):\n",
    "    print(f\"[{idx}/{len(arquivos_csv)}] Lendo: {arq.name} ...\", end=\"\")\n",
    "    df_tmp = ler_csv_robusto(arq)\n",
    "    dataframes.append(df_tmp)\n",
    "    print(f\" ok ({df_tmp.shape[0]} linhas, {df_tmp.shape[1]} colunas)\")\n",
    "\n",
    "# Concatena todos os DataFrames em um só\n",
    "print(\"\\\\nConcatenando DataFrames...\")\n",
    "df = pd.concat(dataframes, ignore_index=True)\n",
    "print(\"Dimensão final:\", df.shape)\n",
    "\n"
   ]
  },
  {
   "cell_type": "code",
   "execution_count": 4,
   "id": "63f9f801-34ae-4bf8-94c1-55e8c4fb1a04",
   "metadata": {
    "tags": []
   },
   "outputs": [
    {
     "name": "stdout",
     "output_type": "stream",
     "text": [
      "Memória liberada.\n"
     ]
    }
   ],
   "source": [
    "# --- Otimização de Memória ---\n",
    "# Remove a lista de dataframes e o dataframe temporário da memória\n",
    "del dataframes\n",
    "del df_tmp\n",
    "gc.collect() # Executa o garbage collector para liberar memória\n",
    "print(\"Memória liberada.\")\n"
   ]
  },
  {
   "cell_type": "code",
   "execution_count": 5,
   "id": "3826f4f9-a909-4224-87a4-aab4871472f3",
   "metadata": {
    "tags": []
   },
   "outputs": [
    {
     "name": "stdout",
     "output_type": "stream",
     "text": [
      "Colunas removidas. Shape após remoção: (11767403, 19)\n"
     ]
    }
   ],
   "source": [
    "# %%\n",
    "# =============================================================================\n",
    "# Passo 3: Limpeza, Otimização e Transformação dos Dados\n",
    "# =============================================================================\n",
    "\n",
    "# --- 3.1: Remoção de Colunas Desnecessárias ---\n",
    "colunas_para_remover = [\n",
    "    \"VinculoAtivo\", \"NRMesDesligamento\", \"TPAdmissao\", \"TPEstabelecimento\", \n",
    "    \"TPDeficiencia\", \"CDCausaAfastamento1\", \"CDCausaAfastamento2\", \"CDCausaAfastamento3\", \n",
    "    \"INTrabIntermitente\", \"VLRemunDezembroNom\", \"VLRemunDezembroSM\", \"VLSalarioContratual\",\n",
    "    \"NRCNPJCEI\", \"NRCNPJRaiz\", \"CDCNAE20Subclasse\", \"Estoque_Total\", \"Estoque_Fem\", \"TPSalario\"\n",
    "]\n",
    "existentes = [c for c in colunas_para_remover if c in df.columns]\n",
    "df.drop(columns=existentes, inplace=True)\n",
    "gc.collect()\n",
    "print(f\"Colunas removidas. Shape após remoção: {df.shape}\")\n"
   ]
  },
  {
   "cell_type": "code",
   "execution_count": 6,
   "id": "ebc06fab-1ebd-4db3-9344-5b0a835e6535",
   "metadata": {
    "tags": []
   },
   "outputs": [
    {
     "name": "stdout",
     "output_type": "stream",
     "text": [
      "Shape após limpeza de salários: (11357549, 19)\n"
     ]
    }
   ],
   "source": [
    "\n",
    "# --- 3.2: Limpeza de Outliers de Remuneração ---\n",
    "df.dropna(subset=[\"VLRemunMediaNom\"], inplace=True)\n",
    "df = df[(df[\"VLRemunMediaSM\"] >= 0.3) & (df[\"VLRemunMediaSM\"] <= 150)]\n",
    "print(f\"Shape após limpeza de salários: {df.shape}\")\n"
   ]
  },
  {
   "cell_type": "code",
   "execution_count": 7,
   "id": "d2ad795b-3ca8-49dd-8a95-a4ae18caf442",
   "metadata": {
    "tags": []
   },
   "outputs": [
    {
     "name": "stdout",
     "output_type": "stream",
     "text": [
      "Otimizando tipos de dados...\n"
     ]
    }
   ],
   "source": [
    "\n",
    "# --- 3.3: Otimização de Tipos de Dados ---\n",
    "print(\"Otimizando tipos de dados...\")\n",
    "if 'CDCBOOcupacao2002' in df.columns:\n",
    "    df['CDCBOOcupacao2002'] = df['CDCBOOcupacao2002'].astype(str)\n",
    "\n",
    "colunas_categoricas = [\n",
    "    \"CDDesligamento\", \"CDGrauEscolaridade\", \"CDNaturezaJuridica\", \"CDRacaCor\", \n",
    "    \"CDSexo\", \"CDTamanhoEstabelecimento\", \"INPortadorDefic\", \"INTrabParcial\", \n",
    "    \"TPVinculo\", \"CDCNAE20Classe\", \"CDMunicipio\"\n",
    "]\n",
    "for col in colunas_categoricas:\n",
    "    if col in df.columns:\n",
    "        df[col] = df[col].astype(\"category\")\n",
    "\n",
    "if \"DTAdmissaoDeclarada\" in df.columns:\n",
    "    df[\"DTAdmissaoDeclarada\"] = pd.to_datetime(df[\"DTAdmissaoDeclarada\"], errors='coerce', dayfirst=True)\n"
   ]
  },
  {
   "cell_type": "code",
   "execution_count": 8,
   "id": "8521ab40-c11f-4a0f-af8a-e6f464291d90",
   "metadata": {
    "tags": []
   },
   "outputs": [
    {
     "name": "stdout",
     "output_type": "stream",
     "text": [
      "Criando novas colunas...\n"
     ]
    }
   ],
   "source": [
    "\n",
    "# --- 3.4: Criação de Novas Colunas (Engenharia de Features) ---\n",
    "print(\"Criando novas colunas...\")\n",
    "ocupacoes_map = {\n",
    "    '0': 'FORÇAS ARMADAS, POLICIAIS E BOMBEIROS', '1': 'DIRIGENTES E GERENTES',\n",
    "    '2': 'PROFISSIONAIS DAS CIÊNCIAS E DAS ARTES', '3': 'TÉCNICOS DE NÍVEL MÉDIO', \n",
    "    '4': 'TRABALHADORES DE SERVIÇOS ADMINISTRATIVOS', '5': 'TRABALHADORES DOS SERVIÇOS E VENDEDORES',\n",
    "    '6': 'TRABALHADORES AGROPECUÁRIOS E DA PESCA', '7': 'TRABALHADORES DA PRODUÇÃO INDUSTRIAL',\n",
    "    '8': 'TRABALHADORES DA PRODUÇÃO INDUSTRIAL', '9': 'TRABALHADORES DE REPARAÇÃO E MANUTENÇÃO'\n",
    "}\n",
    "df['GrupoOcupacao'] = df['CDCBOOcupacao2002'].str[0].map(ocupacoes_map).astype(\"category\")\n"
   ]
  },
  {
   "cell_type": "code",
   "execution_count": 9,
   "id": "d9ce5dd9-7038-468a-969d-d0d67bdc6280",
   "metadata": {
    "tags": []
   },
   "outputs": [
    {
     "name": "stdout",
     "output_type": "stream",
     "text": [
      "Filtrando registros apenas das capitais...\n"
     ]
    }
   ],
   "source": [
    "\n",
    "# --- 3.5: Filtragem por Capitais ---\n",
    "print(\"Filtrando registros apenas das capitais...\")\n",
    "codigos_capitais = [\n",
    "    431490, 330455, 520870, 355030, 250750, 261160, 221100, 292740, 510340, 150140, \n",
    "    410690, 270430, 230440, 240810, 280030, 110020, 120040, 130260, 500270, 310620, \n",
    "    421660, 172100, 160060, 211130, 320530, 530010\n",
    "]\n",
    "df['CDMunicipio'] = pd.to_numeric(df['CDMunicipio'], errors='coerce').astype('Int64')\n",
    "df = df[df['CDMunicipio'].isin(codigos_capitais)].copy()\n"
   ]
  },
  {
   "cell_type": "code",
   "execution_count": 10,
   "id": "955fabc1-931d-4bfd-a55a-83c65bc6fda7",
   "metadata": {},
   "outputs": [
    {
     "name": "stdout",
     "output_type": "stream",
     "text": [
      "Pré-processamento concluído. Shape final para análise: (4257681, 20)\n"
     ]
    }
   ],
   "source": [
    "# --- Limpeza Final de Memória ---\n",
    "gc.collect()\n",
    "print(f\"Pré-processamento concluído. Shape final para análise: {df.shape}\")"
   ]
  },
  {
   "cell_type": "code",
   "execution_count": 11,
   "id": "0726892c-8203-4164-b48c-35c1c4882892",
   "metadata": {
    "tags": []
   },
   "outputs": [
    {
     "name": "stdout",
     "output_type": "stream",
     "text": [
      "Resumo estatístico da Remuneração (Pós-filtro):\n"
     ]
    },
    {
     "data": {
      "text/plain": [
       "count    4257681.00\n",
       "mean        4430.63\n",
       "std         6556.31\n",
       "min          217.20\n",
       "1%           581.16\n",
       "5%           914.00\n",
       "25%         1460.60\n",
       "50%         2222.44\n",
       "75%         4463.25\n",
       "95%        15583.52\n",
       "99%        32883.11\n",
       "max       209000.00\n",
       "Name: VLRemunMediaNom, dtype: float64"
      ]
     },
     "metadata": {},
     "output_type": "display_data"
    }
   ],
   "source": [
    "# %%\n",
    "# =============================================================================\n",
    "# Passo 4: Análise Exploratória e Normalização da Remuneração\n",
    "# =============================================================================\n",
    "\n",
    "# --- 4.1: Análise Univariada da Remuneração (Pós-filtro) ---\n",
    "s = df[\"VLRemunMediaNom\"]\n",
    "print(\"Resumo estatístico da Remuneração (Pós-filtro):\")\n",
    "display(s.describe(percentiles=[.01,.05,.25,.5,.75,.95,.99]).round(2))\n"
   ]
  },
  {
   "cell_type": "code",
   "execution_count": 12,
   "id": "b43a800a-5282-4002-bfd7-f4d2b0c96f4d",
   "metadata": {
    "tags": []
   },
   "outputs": [],
   "source": [
    "\n",
    "# --- 4.2: DataFrame para testes de normalização ---\n",
    "df_norm = df[['VLRemunMediaNom']].copy()\n",
    "\n",
    "\n",
    "# Aplica as transformações\n",
    "df_norm['log_VLRemunMediaNom'] = np.log1p(df_norm['VLRemunMediaNom'])\n",
    "df_norm['robust_VLRemunMediaNom'] = RobustScaler().fit_transform(df_norm[['VLRemunMediaNom']])\n",
    "df_norm['std_VLRemunMediaNom'] = StandardScaler().fit_transform(df_norm[['VLRemunMediaNom']])\n",
    "df_norm['minmax_VLRemunMediaNom'] = MinMaxScaler().fit_transform(df_norm[['VLRemunMediaNom']])\n",
    "df_norm['yeoj_VLRemunMediaNom'] = PowerTransformer(method='yeo-johnson').fit_transform(df_norm[['VLRemunMediaNom']])"
   ]
  },
  {
   "cell_type": "code",
   "execution_count": 13,
   "id": "4a502ff3-7e8d-4647-a808-282fcc204b6c",
   "metadata": {
    "tags": []
   },
   "outputs": [
    {
     "name": "stdout",
     "output_type": "stream",
     "text": [
      "\n",
      "📊 Skew e Curtose das transformações:\n",
      "VLRemunMediaNom                | Skew:   5.939 | Kurtosis:  69.292\n",
      "log_VLRemunMediaNom            | Skew:   0.861 | Kurtosis:   0.508\n",
      "robust_VLRemunMediaNom         | Skew:   5.939 | Kurtosis:  69.292\n",
      "std_VLRemunMediaNom            | Skew:   5.939 | Kurtosis:  69.292\n",
      "minmax_VLRemunMediaNom         | Skew:   5.939 | Kurtosis:  69.292\n",
      "yeoj_VLRemunMediaNom           | Skew:   0.038 | Kurtosis:  -0.101\n"
     ]
    }
   ],
   "source": [
    "# --- 4.3: Avaliação de Assimetria e Curtose ---\n",
    "print(\"\\n📊 Skew e Curtose das transformações:\")\n",
    "for col in df_norm.columns:\n",
    "    skew_val = skew(df_norm[col].dropna())\n",
    "    kurt_val = kurtosis(df_norm[col].dropna())\n",
    "    print(f\"{col:<30} | Skew: {skew_val:>7.3f} | Kurtosis: {kurt_val:>7.3f}\")\n"
   ]
  },
  {
   "cell_type": "code",
   "execution_count": 14,
   "id": "1170bf1b-f7a6-4962-9746-541f229c70c4",
   "metadata": {
    "tags": []
   },
   "outputs": [
    {
     "data": {
      "image/png": "[encoded data removed]",
      "text/plain": [
       "<Figure size 1800x1000 with 6 Axes>"
      ]
     },
     "metadata": {},
     "output_type": "display_data"
    }
   ],
   "source": [
    "\n",
    "# --- 4.4: Visualização das Distribuições ---\n",
    "fig, axs = plt.subplots(2, 3, figsize=(18, 10))\n",
    "sns.histplot(df_norm['VLRemunMediaNom'], ax=axs[0, 0], kde=True).set(title='Original')\n",
    "sns.histplot(df_norm['log_VLRemunMediaNom'], ax=axs[0, 1], kde=True).set(title='Log1p')\n",
    "sns.histplot(df_norm['robust_VLRemunMediaNom'], ax=axs[0, 2], kde=True).set(title='RobustScaler')\n",
    "sns.histplot(df_norm['std_VLRemunMediaNom'], ax=axs[1, 0], kde=True).set(title='StandardScaler')\n",
    "sns.histplot(df_norm['minmax_VLRemunMediaNom'], ax=axs[1, 1], kde=True).set(title='MinMaxScaler')\n",
    "sns.histplot(df_norm['yeoj_VLRemunMediaNom'], ax=axs[1, 2], kde=True).set(title='PowerTransformer (Yeo-Johnson)')\n",
    "plt.tight_layout()\n",
    "plt.show()"
   ]
  },
  {
   "cell_type": "code",
   "execution_count": 15,
   "id": "9d26c75d-c54e-42a0-80a1-3d0c665431a5",
   "metadata": {
    "tags": []
   },
   "outputs": [],
   "source": [
    "# %%\n",
    "# =============================================================================\n",
    "# Passo 5: Teste de Hipóteses (Carga Horária)\n",
    "# =============================================================================\n",
    "\n",
    "# --- 5.1: Preparação do DataFrame para a Análise de Horas ---\n",
    "df_horas = df.dropna(subset=['NRQtdHoraContr', 'CDSexo', 'GrupoOcupacao']).copy()\n",
    "df_horas['CDSexo'] = df_horas['CDSexo'].map({1.0: 'Masculino', 2.0: 'Feminino'}).astype(\"category\")\n"
   ]
  },
  {
   "cell_type": "code",
   "execution_count": 16,
   "id": "3343b71a-f547-4abc-aaba-8f375b409619",
   "metadata": {
    "tags": []
   },
   "outputs": [
    {
     "name": "stdout",
     "output_type": "stream",
     "text": [
      "--- Análise Geral por Sexo ---\n"
     ]
    },
    {
     "data": {
      "text/html": [
       "<div>\n",
       "<style scoped>\n",
       "    .dataframe tbody tr th:only-of-type {\n",
       "        vertical-align: middle;\n",
       "    }\n",
       "\n",
       "    .dataframe tbody tr th {\n",
       "        vertical-align: top;\n",
       "    }\n",
       "\n",
       "    .dataframe thead th {\n",
       "        text-align: right;\n",
       "    }\n",
       "</style>\n",
       "<table border=\"1\" class=\"dataframe\">\n",
       "  <thead>\n",
       "    <tr style=\"text-align: right;\">\n",
       "      <th></th>\n",
       "      <th>count</th>\n",
       "      <th>mean</th>\n",
       "      <th>std</th>\n",
       "      <th>min</th>\n",
       "      <th>25%</th>\n",
       "      <th>50%</th>\n",
       "      <th>75%</th>\n",
       "      <th>max</th>\n",
       "    </tr>\n",
       "    <tr>\n",
       "      <th>CDSexo</th>\n",
       "      <th></th>\n",
       "      <th></th>\n",
       "      <th></th>\n",
       "      <th></th>\n",
       "      <th></th>\n",
       "      <th></th>\n",
       "      <th></th>\n",
       "      <th></th>\n",
       "    </tr>\n",
       "  </thead>\n",
       "  <tbody>\n",
       "    <tr>\n",
       "      <th>Masculino</th>\n",
       "      <td>2345784.0</td>\n",
       "      <td>40.928552</td>\n",
       "      <td>8.737053</td>\n",
       "      <td>0.0</td>\n",
       "      <td>40.0</td>\n",
       "      <td>44.0</td>\n",
       "      <td>44.0</td>\n",
       "      <td>99.0</td>\n",
       "    </tr>\n",
       "    <tr>\n",
       "      <th>Feminino</th>\n",
       "      <td>1911896.0</td>\n",
       "      <td>39.046746</td>\n",
       "      <td>8.859614</td>\n",
       "      <td>0.0</td>\n",
       "      <td>36.0</td>\n",
       "      <td>40.0</td>\n",
       "      <td>44.0</td>\n",
       "      <td>99.0</td>\n",
       "    </tr>\n",
       "  </tbody>\n",
       "</table>\n",
       "</div>"
      ],
      "text/plain": [
       "               count       mean       std  min   25%   50%   75%   max\n",
       "CDSexo                                                                \n",
       "Masculino  2345784.0  40.928552  8.737053  0.0  40.0  44.0  44.0  99.0\n",
       "Feminino   1911896.0  39.046746  8.859614  0.0  36.0  40.0  44.0  99.0"
      ]
     },
     "metadata": {},
     "output_type": "display_data"
    },
    {
     "name": "stdout",
     "output_type": "stream",
     "text": [
      "\n",
      "Estatística t (Geral) = 219.354 | p-valor = 0.0000\n"
     ]
    }
   ],
   "source": [
    "\n",
    "# --- 5.2: Análise da Carga Horária por Sexo (Geral) ---\n",
    "# CORREÇÃO: Adicionado observed=False para remover o warning\n",
    "print(\"--- Análise Geral por Sexo ---\")\n",
    "display(df_horas.groupby('CDSexo', observed=False)['NRQtdHoraContr'].describe())\n",
    "\n",
    "homens = df_horas[df_horas['CDSexo'] == 'Masculino']['NRQtdHoraContr']\n",
    "mulheres = df_horas[df_horas['CDSexo'] == 'Feminino']['NRQtdHoraContr']\n",
    "t_stat, p_valor = ttest_ind(homens, mulheres, equal_var=False)\n",
    "print(f\"\\nEstatística t (Geral) = {t_stat:.3f} | p-valor = {p_valor:.4f}\")\n"
   ]
  },
  {
   "cell_type": "code",
   "execution_count": 17,
   "id": "e0c557ff-c98a-471e-9b44-9cf81f944b2f",
   "metadata": {
    "tags": []
   },
   "outputs": [
    {
     "name": "stdout",
     "output_type": "stream",
     "text": [
      "\n",
      "--- Análise por Grupo Ocupacional e Sexo ---\n"
     ]
    },
    {
     "data": {
      "text/html": [
       "<div>\n",
       "<style scoped>\n",
       "    .dataframe tbody tr th:only-of-type {\n",
       "        vertical-align: middle;\n",
       "    }\n",
       "\n",
       "    .dataframe tbody tr th {\n",
       "        vertical-align: top;\n",
       "    }\n",
       "\n",
       "    .dataframe thead th {\n",
       "        text-align: right;\n",
       "    }\n",
       "</style>\n",
       "<table border=\"1\" class=\"dataframe\">\n",
       "  <thead>\n",
       "    <tr style=\"text-align: right;\">\n",
       "      <th></th>\n",
       "      <th>GrupoOcupacao</th>\n",
       "      <th>CDSexo</th>\n",
       "      <th>count</th>\n",
       "      <th>mean</th>\n",
       "      <th>std</th>\n",
       "    </tr>\n",
       "  </thead>\n",
       "  <tbody>\n",
       "    <tr>\n",
       "      <th>0</th>\n",
       "      <td>DIRIGENTES E GERENTES</td>\n",
       "      <td>Masculino</td>\n",
       "      <td>141401</td>\n",
       "      <td>39.997383</td>\n",
       "      <td>11.954777</td>\n",
       "    </tr>\n",
       "    <tr>\n",
       "      <th>1</th>\n",
       "      <td>DIRIGENTES E GERENTES</td>\n",
       "      <td>Feminino</td>\n",
       "      <td>115970</td>\n",
       "      <td>39.475520</td>\n",
       "      <td>11.749788</td>\n",
       "    </tr>\n",
       "    <tr>\n",
       "      <th>2</th>\n",
       "      <td>FORÇAS ARMADAS, POLICIAIS E BOMBEIROS</td>\n",
       "      <td>Masculino</td>\n",
       "      <td>21676</td>\n",
       "      <td>39.709587</td>\n",
       "      <td>1.806675</td>\n",
       "    </tr>\n",
       "    <tr>\n",
       "      <th>3</th>\n",
       "      <td>FORÇAS ARMADAS, POLICIAIS E BOMBEIROS</td>\n",
       "      <td>Feminino</td>\n",
       "      <td>5478</td>\n",
       "      <td>39.803578</td>\n",
       "      <td>1.912675</td>\n",
       "    </tr>\n",
       "    <tr>\n",
       "      <th>4</th>\n",
       "      <td>PROFISSIONAIS DAS CIÊNCIAS E DAS ARTES</td>\n",
       "      <td>Masculino</td>\n",
       "      <td>288022</td>\n",
       "      <td>36.753238</td>\n",
       "      <td>12.849189</td>\n",
       "    </tr>\n",
       "    <tr>\n",
       "      <th>5</th>\n",
       "      <td>PROFISSIONAIS DAS CIÊNCIAS E DAS ARTES</td>\n",
       "      <td>Feminino</td>\n",
       "      <td>318087</td>\n",
       "      <td>35.979113</td>\n",
       "      <td>11.769197</td>\n",
       "    </tr>\n",
       "    <tr>\n",
       "      <th>6</th>\n",
       "      <td>TRABALHADORES AGROPECUÁRIOS E DA PESCA</td>\n",
       "      <td>Masculino</td>\n",
       "      <td>15148</td>\n",
       "      <td>42.858265</td>\n",
       "      <td>4.580614</td>\n",
       "    </tr>\n",
       "    <tr>\n",
       "      <th>7</th>\n",
       "      <td>TRABALHADORES AGROPECUÁRIOS E DA PESCA</td>\n",
       "      <td>Feminino</td>\n",
       "      <td>2323</td>\n",
       "      <td>42.203616</td>\n",
       "      <td>3.488056</td>\n",
       "    </tr>\n",
       "    <tr>\n",
       "      <th>8</th>\n",
       "      <td>TRABALHADORES DA PRODUÇÃO INDUSTRIAL</td>\n",
       "      <td>Masculino</td>\n",
       "      <td>505060</td>\n",
       "      <td>43.369871</td>\n",
       "      <td>7.473455</td>\n",
       "    </tr>\n",
       "    <tr>\n",
       "      <th>9</th>\n",
       "      <td>TRABALHADORES DA PRODUÇÃO INDUSTRIAL</td>\n",
       "      <td>Feminino</td>\n",
       "      <td>72545</td>\n",
       "      <td>44.453250</td>\n",
       "      <td>9.899055</td>\n",
       "    </tr>\n",
       "    <tr>\n",
       "      <th>10</th>\n",
       "      <td>TRABALHADORES DE REPARAÇÃO E MANUTENÇÃO</td>\n",
       "      <td>Masculino</td>\n",
       "      <td>77079</td>\n",
       "      <td>42.626604</td>\n",
       "      <td>6.038322</td>\n",
       "    </tr>\n",
       "    <tr>\n",
       "      <th>11</th>\n",
       "      <td>TRABALHADORES DE REPARAÇÃO E MANUTENÇÃO</td>\n",
       "      <td>Feminino</td>\n",
       "      <td>6066</td>\n",
       "      <td>41.470986</td>\n",
       "      <td>9.997868</td>\n",
       "    </tr>\n",
       "    <tr>\n",
       "      <th>12</th>\n",
       "      <td>TRABALHADORES DE SERVIÇOS ADMINISTRATIVOS</td>\n",
       "      <td>Masculino</td>\n",
       "      <td>378694</td>\n",
       "      <td>39.252320</td>\n",
       "      <td>7.427364</td>\n",
       "    </tr>\n",
       "    <tr>\n",
       "      <th>13</th>\n",
       "      <td>TRABALHADORES DE SERVIÇOS ADMINISTRATIVOS</td>\n",
       "      <td>Feminino</td>\n",
       "      <td>583236</td>\n",
       "      <td>38.636629</td>\n",
       "      <td>7.036767</td>\n",
       "    </tr>\n",
       "    <tr>\n",
       "      <th>14</th>\n",
       "      <td>TRABALHADORES DOS SERVIÇOS E VENDEDORES</td>\n",
       "      <td>Masculino</td>\n",
       "      <td>630169</td>\n",
       "      <td>42.162287</td>\n",
       "      <td>6.836590</td>\n",
       "    </tr>\n",
       "    <tr>\n",
       "      <th>15</th>\n",
       "      <td>TRABALHADORES DOS SERVIÇOS E VENDEDORES</td>\n",
       "      <td>Feminino</td>\n",
       "      <td>455543</td>\n",
       "      <td>41.345368</td>\n",
       "      <td>7.181002</td>\n",
       "    </tr>\n",
       "    <tr>\n",
       "      <th>16</th>\n",
       "      <td>TÉCNICOS DE NÍVEL MÉDIO</td>\n",
       "      <td>Masculino</td>\n",
       "      <td>288535</td>\n",
       "      <td>40.321566</td>\n",
       "      <td>8.106345</td>\n",
       "    </tr>\n",
       "    <tr>\n",
       "      <th>17</th>\n",
       "      <td>TÉCNICOS DE NÍVEL MÉDIO</td>\n",
       "      <td>Feminino</td>\n",
       "      <td>352648</td>\n",
       "      <td>38.195254</td>\n",
       "      <td>7.882052</td>\n",
       "    </tr>\n",
       "  </tbody>\n",
       "</table>\n",
       "</div>"
      ],
      "text/plain": [
       "                                GrupoOcupacao     CDSexo   count       mean  \\\n",
       "0                       DIRIGENTES E GERENTES  Masculino  141401  39.997383   \n",
       "1                       DIRIGENTES E GERENTES   Feminino  115970  39.475520   \n",
       "2       FORÇAS ARMADAS, POLICIAIS E BOMBEIROS  Masculino   21676  39.709587   \n",
       "3       FORÇAS ARMADAS, POLICIAIS E BOMBEIROS   Feminino    5478  39.803578   \n",
       "4      PROFISSIONAIS DAS CIÊNCIAS E DAS ARTES  Masculino  288022  36.753238   \n",
       "5      PROFISSIONAIS DAS CIÊNCIAS E DAS ARTES   Feminino  318087  35.979113   \n",
       "6      TRABALHADORES AGROPECUÁRIOS E DA PESCA  Masculino   15148  42.858265   \n",
       "7      TRABALHADORES AGROPECUÁRIOS E DA PESCA   Feminino    2323  42.203616   \n",
       "8        TRABALHADORES DA PRODUÇÃO INDUSTRIAL  Masculino  505060  43.369871   \n",
       "9        TRABALHADORES DA PRODUÇÃO INDUSTRIAL   Feminino   72545  44.453250   \n",
       "10    TRABALHADORES DE REPARAÇÃO E MANUTENÇÃO  Masculino   77079  42.626604   \n",
       "11    TRABALHADORES DE REPARAÇÃO E MANUTENÇÃO   Feminino    6066  41.470986   \n",
       "12  TRABALHADORES DE SERVIÇOS ADMINISTRATIVOS  Masculino  378694  39.252320   \n",
       "13  TRABALHADORES DE SERVIÇOS ADMINISTRATIVOS   Feminino  583236  38.636629   \n",
       "14    TRABALHADORES DOS SERVIÇOS E VENDEDORES  Masculino  630169  42.162287   \n",
       "15    TRABALHADORES DOS SERVIÇOS E VENDEDORES   Feminino  455543  41.345368   \n",
       "16                    TÉCNICOS DE NÍVEL MÉDIO  Masculino  288535  40.321566   \n",
       "17                    TÉCNICOS DE NÍVEL MÉDIO   Feminino  352648  38.195254   \n",
       "\n",
       "          std  \n",
       "0   11.954777  \n",
       "1   11.749788  \n",
       "2    1.806675  \n",
       "3    1.912675  \n",
       "4   12.849189  \n",
       "5   11.769197  \n",
       "6    4.580614  \n",
       "7    3.488056  \n",
       "8    7.473455  \n",
       "9    9.899055  \n",
       "10   6.038322  \n",
       "11   9.997868  \n",
       "12   7.427364  \n",
       "13   7.036767  \n",
       "14   6.836590  \n",
       "15   7.181002  \n",
       "16   8.106345  \n",
       "17   7.882052  "
      ]
     },
     "metadata": {},
     "output_type": "display_data"
    }
   ],
   "source": [
    "\n",
    "# --- 5.3: Análise da Carga Horária por Grupo Ocupacional e Sexo ---\n",
    "# CORREÇÃO: Adicionado observed=False para remover o warning\n",
    "print(\"\\n--- Análise por Grupo Ocupacional e Sexo ---\")\n",
    "grupo_sexo_stats = (\n",
    "    df_horas.groupby(['GrupoOcupacao', 'CDSexo'], observed=False)['NRQtdHoraContr']\n",
    "    .agg(['count', 'mean', 'std'])\n",
    "    .reset_index()\n",
    ")\n",
    "display(grupo_sexo_stats)\n"
   ]
  },
  {
   "cell_type": "code",
   "execution_count": 18,
   "id": "710025f2-d5a6-4fe6-972e-8f38ba03eb15",
   "metadata": {
    "tags": []
   },
   "outputs": [
    {
     "data": {
      "image/png": "[encoded data removed]",
      "text/plain": [
       "<Figure size 1400x800 with 1 Axes>"
      ]
     },
     "metadata": {},
     "output_type": "display_data"
    }
   ],
   "source": [
    "\n",
    "# --- 5.4: Visualização com Boxplot ---\n",
    "# CORREÇÃO: Adicionado observed=False para remover o warning\n",
    "medianas = df_horas.groupby(\"GrupoOcupacao\", observed=False)[\"NRQtdHoraContr\"].median().sort_values()\n",
    "ordem = medianas.index.tolist()\n",
    "\n",
    "plt.figure(figsize=(14, 8))\n",
    "sns.boxplot(\n",
    "    data=df_horas, y='GrupoOcupacao', x='NRQtdHoraContr', hue='CDSexo',\n",
    "    orient='h', order=ordem, showfliers=False, palette='pastel'\n",
    ")\n",
    "plt.title('Distribuição da Carga Horária por Grupo Ocupacional e Sexo', fontsize=14)\n",
    "plt.xlabel('Carga Horária Contratada por Semana', fontsize=12)\n",
    "plt.ylabel('Grupo Ocupacional', fontsize=12)\n",
    "plt.legend(title='Sexo')\n",
    "plt.tight_layout()\n",
    "plt.show()\n"
   ]
  },
  {
   "cell_type": "code",
   "execution_count": 19,
   "id": "a82849b9-dcd6-4043-b28c-5ce9428cc744",
   "metadata": {},
   "outputs": [
    {
     "name": "stdout",
     "output_type": "stream",
     "text": [
      "\n",
      "DataFrame final salvo com sucesso em: C:\\Users\\Guilherme\\OneDrive\\Cursos\\ENAP\\MBA em Inteligência Artificial\\Disciplinas\\18 - Lab 02\\Bases\\0_RAIS_Bases_Amostra\\RAIS_Enap_amostra_\\RAIS_CAPITAIS_PROCESSADO_FINAL.parquet\n"
     ]
    },
    {
     "data": {
      "text/plain": [
       "520"
      ]
     },
     "execution_count": 19,
     "metadata": {},
     "output_type": "execute_result"
    }
   ],
   "source": [
    "\n",
    "# --- 5.5: Salvar o DataFrame final e limpo (Opcional, no final de tudo) ---\n",
    "df['log_VLRemunMediaNom'] = np.log1p(df['VLRemunMediaNom'])\n",
    "saida_final_parquet = pasta_csvs / \"RAIS_CAPITAIS_PROCESSADO_FINAL.parquet\"\n",
    "df.to_parquet(saida_final_parquet, index=False)\n",
    "print(f\"\\nDataFrame final salvo com sucesso em: {saida_final_parquet}\")\n",
    "\n",
    "# --- Limpeza final da memória ---\n",
    "del df, df_norm, df_horas\n",
    "gc.collect()"
   ]
  },
  {
   "cell_type": "code",
   "execution_count": 20,
   "id": "9681813c-bc3d-41d3-92df-7611a6e46622",
   "metadata": {
    "tags": []
   },
   "outputs": [
    {
     "ename": "NameError",
     "evalue": "name 'df_norm' is not defined",
     "output_type": "error",
     "traceback": [
      "\u001b[31m---------------------------------------------------------------------------\u001b[39m",
      "\u001b[31mNameError\u001b[39m                                 Traceback (most recent call last)",
      "\u001b[36mCell\u001b[39m\u001b[36m \u001b[39m\u001b[32mIn[20]\u001b[39m\u001b[32m, line 2\u001b[39m\n\u001b[32m      1\u001b[39m scaler_minmax = MinMaxScaler()\n\u001b[32m----> \u001b[39m\u001b[32m2\u001b[39m df_norm[\u001b[33m'\u001b[39m\u001b[33mminmax_VLRemunMediaNom\u001b[39m\u001b[33m'\u001b[39m] = scaler_minmax.fit_transform(df_norm[[\u001b[33m'\u001b[39m\u001b[33mVLRemunMediaNom\u001b[39m\u001b[33m'\u001b[39m]])\n",
      "\u001b[31mNameError\u001b[39m: name 'df_norm' is not defined"
     ]
    }
   ],
   "source": [
    "scaler_minmax = MinMaxScaler()\n",
    "df_norm['minmax_VLRemunMediaNom'] = scaler_minmax.fit_transform(df_norm[['VLRemunMediaNom']])\n"
   ]
  },
  {
   "cell_type": "code",
   "execution_count": null,
   "id": "9fe70b4a-0a55-462d-8773-5299a398f857",
   "metadata": {
    "tags": []
   },
   "outputs": [],
   "source": [
    "scaler_yeoj = PowerTransformer(method='yeo-johnson')\n",
    "df_norm['yeoj_VLRemunMediaNom'] = scaler_yeoj.fit_transform(df_norm[['VLRemunMediaNom']])\n"
   ]
  },
  {
   "cell_type": "code",
   "execution_count": null,
   "id": "31b7a698-07cb-47fb-a94f-a1e48b826348",
   "metadata": {
    "tags": []
   },
   "outputs": [],
   "source": [
    "# Avaliação estatística das transformações\n",
    "print(\"📊 Skew e Curtose das transformações:\")\n",
    "for col in [\n",
    "    'VLRemunMediaNom', 'log_VLRemunMediaNom', 'robust_VLRemunMediaNom',\n",
    "    'std_VLRemunMediaNom', 'minmax_VLRemunMediaNom', 'yeoj_VLRemunMediaNom'\n",
    "]:\n",
    "    skew_val = skew(df_norm[col])\n",
    "    kurt_val = kurtosis(df_norm[col])\n",
    "    print(f\"{col:<30} | Skew: {skew_val:>7.3f} | Kurtosis: {kurt_val:>7.3f}\")\n",
    "\n",
    "# %% Visualização das distribuições normalizadas\n",
    "fig, axs = plt.subplots(2, 3, figsize=(18, 10))\n"
   ]
  },
  {
   "cell_type": "code",
   "execution_count": null,
   "id": "d8aba019-0235-4a68-b886-bf1b57d80a24",
   "metadata": {
    "tags": []
   },
   "outputs": [],
   "source": [
    "sns.histplot(df_norm['log_VLRemunMediaNom'], ax=axs[0, 0], kde=True).set(title='Log1p')\n",
    "sns.histplot(df_norm['robust_VLRemunMediaNom'], ax=axs[0, 1], kde=True).set(title='RobustScaler')\n",
    "sns.histplot(df_norm['std_VLRemunMediaNom'], ax=axs[0, 2], kde=True).set(title='StandardScaler')\n",
    "sns.histplot(df_norm['minmax_VLRemunMediaNom'], ax=axs[1, 0], kde=True).set(title='MinMaxScaler')\n",
    "sns.histplot(df_norm['yeoj_VLRemunMediaNom'], ax=axs[1, 1], kde=True).set(title='PowerTransformer (Yeo-Johnson)')\n",
    "sns.histplot(df_norm['VLRemunMediaNom'], ax=axs[1, 2], kde=True).set(title='Original')\n",
    "\n",
    "plt.tight_layout()\n",
    "plt.show()"
   ]
  },
  {
   "cell_type": "code",
   "execution_count": null,
   "id": "5e020ef0-e407-410d-ae5c-4a2b1cd8fb98",
   "metadata": {
    "tags": []
   },
   "outputs": [],
   "source": [
    "df_filtrado.to_parquet(\"df_filtrado_log_VLRemunMediaNom.parquet\", index=False)\n"
   ]
  },
  {
   "cell_type": "code",
   "execution_count": null,
   "id": "e88bd993-13b6-4253-ae30-6794de6e2f3e",
   "metadata": {
    "tags": []
   },
   "outputs": [],
   "source": [
    "\n",
    "# Reimportar o DataFrame a partir do arquivo Parquet\n",
    "df_filtrado = pd.read_parquet(\"df_filtrado_log_VLRemunMediaNom.parquet\")\n",
    "\n",
    "# Verificar as primeiras linhas\n",
    "df_filtrado.head()\n"
   ]
  },
  {
   "cell_type": "markdown",
   "id": "309bfd48-d271-48f4-b8cc-b334dc62020a",
   "metadata": {},
   "source": [
    "# Teste de hipóteses"
   ]
  },
  {
   "cell_type": "code",
   "execution_count": null,
   "id": "ca5e5b98-f0ed-4649-8e85-d49e03de5b4c",
   "metadata": {
    "tags": []
   },
   "outputs": [],
   "source": [
    "# Total antes do filtro\n",
    "total_antes = len(df_filtrado)\n",
    "\n",
    "# Proporção de valores nulos no campo de carga horária\n",
    "prop_nulos = df_filtrado['NRQtdHoraContr'].isna().mean()\n",
    "print(f'Proporção de valores nulos em NRQtdHoraContr: {prop_nulos:.2%}')\n",
    "\n",
    "# Remoção de nulos\n",
    "df_horas = df_filtrado.dropna(subset=['NRQtdHoraContr', 'CDSexo'])\n",
    "\n",
    "# Total após o filtro\n",
    "total_depois = len(df_horas)\n",
    "\n",
    "print(f'Total de registros antes do filtro: {total_antes:,}')\n",
    "print(f'Total de registros após o filtro:  {total_depois:,}')\n",
    "print(f'Total removido: {total_antes - total_depois:,}')\n"
   ]
  },
  {
   "cell_type": "code",
   "execution_count": null,
   "id": "cc2d171e-9414-4383-ac6b-e37a1b420577",
   "metadata": {
    "tags": []
   },
   "outputs": [],
   "source": [
    "df_horas['CDSexo'] = df_horas['CDSexo'].map({1: 'Masculino', 2: 'Feminino'})\n"
   ]
  },
  {
   "cell_type": "code",
   "execution_count": null,
   "id": "0da007fb-a765-4d24-aa2f-66613e549b3f",
   "metadata": {
    "tags": []
   },
   "outputs": [],
   "source": [
    "df_horas.groupby('CDSexo')['NRQtdHoraContr'].describe()\n"
   ]
  },
  {
   "cell_type": "code",
   "execution_count": null,
   "id": "e4803466-6e51-45b2-9055-108e68d76b4e",
   "metadata": {
    "tags": []
   },
   "outputs": [],
   "source": [
    "\n",
    "plt.figure(figsize=(8,5))\n",
    "sns.boxplot(x='CDSexo', y='NRQtdHoraContr', data=df_horas)\n",
    "plt.title(\"Distribuição da Carga Horária Contratada por Sexo\")\n",
    "plt.ylabel(\"Horas contratadas por semana\")\n",
    "plt.xlabel(\"Sexo\")\n",
    "plt.show()\n"
   ]
  },
  {
   "cell_type": "code",
   "execution_count": null,
   "id": "a1a0a68e-c57a-437d-96f5-b6ceb741620e",
   "metadata": {
    "tags": []
   },
   "outputs": [],
   "source": [
    "\n",
    "\n",
    "# Separação por sexo\n",
    "homens = df_horas[df_horas['CDSexo'] == 'Masculino']['NRQtdHoraContr']\n",
    "mulheres = df_horas[df_horas['CDSexo'] == 'Feminino']['NRQtdHoraContr']\n",
    "\n",
    "# Teste de diferença de médias\n",
    "t_stat, p_valor = ttest_ind(homens, mulheres, equal_var=False)\n",
    "\n",
    "\n",
    "print(f\"Estatística t = {t_stat:.3f}\")\n",
    "print(f\"p-valor = {p_valor:.4f}\")\n"
   ]
  },
  {
   "cell_type": "code",
   "execution_count": null,
   "id": "9b82f917-4f6c-41e8-a61e-a1f16f9d1691",
   "metadata": {
    "tags": []
   },
   "outputs": [],
   "source": [
    "sns.kdeplot(data=homens, label=\"Masculino\", fill=True)\n",
    "sns.kdeplot(data=mulheres, label=\"Feminino\", fill=True)\n",
    "plt.title(\"Distribuição da Carga Horária Contratada por Sexo\")\n",
    "plt.xlabel(\"NRQtdHoraContr\")\n",
    "plt.legend()\n",
    "plt.show()\n"
   ]
  },
  {
   "cell_type": "code",
   "execution_count": null,
   "id": "808eef67-98dc-4938-baaf-d90c86d04a33",
   "metadata": {
    "tags": []
   },
   "outputs": [],
   "source": [
    "# Após importar o parquet:\n",
    "df_filtrado = pd.read_parquet(\"df_filtrado_log_VLRemunMediaNom.parquet\")\n",
    "\n",
    "# Garantir tipo string\n",
    "df_filtrado['CDCBOOcupacao2002'] = df_filtrado['CDCBOOcupacao2002'].astype(str)\n",
    "\n",
    "# Recriar a coluna com base no dicionário\n",
    "ocupacoes_map = {\n",
    "    '0': 'MEMBROS DAS FORÇAS ARMADAS, POLICIAIS E BOMBEIROS MILITARES',\n",
    "    '1': 'MEMBROS SUPERIORES DO PODER PÚBLICO, DIRIGENTES, GERENTES',\n",
    "    '2': 'PROFISSIONAIS DAS CIÊNCIAS E DAS ARTES',\n",
    "    '3': 'TÉCNICOS DE NÍVEL MÉDIO',\n",
    "    '4': 'TRABALHADORES DE SERVIÇOS ADMINISTRATIVOS',\n",
    "    '5': 'TRABALHADORES DOS SERVIÇOS E VENDEDORES DO COMÉRCIO',\n",
    "    '6': 'TRABALHADORES AGROPECUÁRIOS, FLORESTAIS E DA PESCA',\n",
    "    '7': 'TRABALHADORES DA PRODUÇÃO INDUSTRIAL',\n",
    "    '8': 'TRABALHADORES DA PRODUÇÃO INDUSTRIAL',\n",
    "    '9': 'TRABALHADORES EM SERVIÇOS DE REPARAÇÃO E MANUTENÇÃO'\n",
    "}\n",
    "\n",
    "df_filtrado['GrupoOcupacao'] = df_filtrado['CDCBOOcupacao2002'].str[0].map(ocupacoes_map)\n"
   ]
  },
  {
   "cell_type": "code",
   "execution_count": null,
   "id": "86435f55-88f0-408a-ac3a-db9d7e0e9c1b",
   "metadata": {
    "tags": []
   },
   "outputs": [],
   "source": [
    "# Criação correta após garantir que df_filtrado tenha a coluna\n",
    "df_horas_filtrado = df_filtrado[df_filtrado['CDSexo'].isin([1, 2])]\n"
   ]
  },
  {
   "cell_type": "code",
   "execution_count": null,
   "id": "aa5c6608-bca9-4d7d-91b7-59fc4d3abafd",
   "metadata": {
    "tags": []
   },
   "outputs": [],
   "source": [
    "# Agrupar por grupo ocupacional e sexo\n",
    "grupo_sexo_stats = (\n",
    "    df_filtrado\n",
    "    .dropna(subset=['NRQtdHoraContr', 'CDSexo', 'GrupoOcupacao'])\n",
    "    .groupby(['GrupoOcupacao', 'CDSexo'])['NRQtdHoraContr']\n",
    "    .agg(['count', 'mean', 'std'])\n",
    "    .reset_index()\n",
    "    .sort_values(['GrupoOcupacao', 'CDSexo'])\n",
    ")\n",
    "\n",
    "# Mostrar resultados\n",
    "display(grupo_sexo_stats)\n"
   ]
  },
  {
   "cell_type": "code",
   "execution_count": null,
   "id": "e4f08952-3d0f-415a-88e4-cc4b54a510ec",
   "metadata": {
    "tags": []
   },
   "outputs": [],
   "source": [
    "\n",
    "# Tema visual elegante\n",
    "sns.set_theme(style=\"whitegrid\")\n",
    "\n",
    "# Número de grupos únicos\n",
    "grupos = df_horas_filtrado['GrupoOcupacao'].dropna().unique()\n",
    "num_grupos = len(grupos)\n",
    "\n",
    "# Altura do gráfico ajustada automaticamente\n",
    "altura = max(8, num_grupos * 0.7)  # aumento da altura\n",
    "\n",
    "plt.figure(figsize=(14, altura))  # aumento da largura também\n",
    "sns.boxplot(\n",
    "    data=df_horas_filtrado,\n",
    "    y='GrupoOcupacao',\n",
    "    x='NRQtdHoraContr',\n",
    "    hue='CDSexo',\n",
    "    orient='h',\n",
    "    palette='pastel',           # cores suaves e claras\n",
    "    fliersize=2                 # reduz tamanho dos marcadores de outliers\n",
    ")\n",
    "\n",
    "plt.title('Distribuição da Carga Horária por Grupo Ocupacional', fontsize=14)\n",
    "plt.xlabel('Carga Horária Contratada', fontsize=12)\n",
    "plt.ylabel('Grupo Ocupacional', fontsize=12)\n",
    "plt.xticks(fontsize=10)\n",
    "plt.yticks(fontsize=10)\n",
    "plt.legend(title='Sexo', labels=['Masculino (1)', 'Feminino (2)'], fontsize=10, title_fontsize=11, loc='lower right')\n",
    "plt.tight_layout()\n",
    "plt.show()\n"
   ]
  },
  {
   "cell_type": "code",
   "execution_count": null,
   "id": "030bec70-df67-4085-9a17-c982a5d25c95",
   "metadata": {
    "tags": []
   },
   "outputs": [],
   "source": [
    "\n",
    "# Reimporta o DataFrame\n",
    "df_horas_filtrado = pd.read_parquet(\"df_filtrado_log_VLRemunMediaNom.parquet\")\n",
    "\n",
    "# Ordena os grupos pela mediana da carga horária\n",
    "medianas = df_horas_filtrado.groupby(\"GrupoOcupacao\")[\"NRQtdHoraContr\"].median().sort_values()\n",
    "ordem = medianas.index.tolist()\n",
    "\n",
    "# Plot do boxplot aprimorado\n",
    "plt.figure(figsize=(10, 8))  # aumenta altura\n",
    "sns.set(style=\"whitegrid\")   # estilo limpo\n",
    "\n",
    "sns.boxplot(\n",
    "    data=df_horas_filtrado,\n",
    "    y=\"GrupoOcupacao\",\n",
    "    x=\"NRQtdHoraContr\",\n",
    "    hue=\"CDSexo\",\n",
    "    order=ordem,\n",
    "    showfliers=False,        # não mostra outliers\n",
    "    width=0.6                # largura das caixas\n",
    ")\n",
    "\n",
    "plt.title(\"Distribuição da Carga Horária por Grupo Ocupacional\", fontsize=14)\n",
    "plt.xlabel(\"Carga Horária Contratada\")\n",
    "plt.ylabel(\"Grupo Ocupacional\")\n",
    "plt.legend(title=\"Sexo\", labels=[\"Masculino (1)\", \"Feminino (2)\"], loc=\"lower right\")\n",
    "plt.tight_layout()\n",
    "plt.show()\n"
   ]
  },
  {
   "cell_type": "code",
   "execution_count": null,
   "id": "a629985d-0904-4dd1-83af-8f6290de2978",
   "metadata": {
    "tags": []
   },
   "outputs": [],
   "source": [
    "\n",
    "# Lista para armazenar os resultados\n",
    "resultados_teste_t = []\n",
    "\n",
    "# Laço por cada grupo\n",
    "for grupo in df_filtrado['GrupoOcupacao'].dropna().unique():\n",
    "    sub = df_filtrado.query(\"GrupoOcupacao == @grupo and not NRQtdHoraContr.isna() and not CDSexo.isna()\")\n",
    "\n",
    "    fem = sub.loc[sub['CDSexo'] == 'Feminino', 'NRQtdHoraContr']\n",
    "    masc = sub.loc[sub['CDSexo'] == 'Masculino', 'NRQtdHoraContr']\n",
    "    \n",
    "    # Teste t (sem assumir variâncias iguais)\n",
    "    t_stat, p_val = ttest_ind(masc, fem, equal_var=False)\n",
    "    \n",
    "    resultados_teste_t.append({\n",
    "        'GrupoOcupacao': grupo,\n",
    "        'Media_Masc': masc.mean(),\n",
    "        'Media_Fem': fem.mean(),\n",
    "        'Dif_Medias': masc.mean() - fem.mean(),\n",
    "        't_stat': t_stat,\n",
    "        'p_valor': p_val,\n",
    "        'N_Masc': len(masc),\n",
    "        'N_Fem': len(fem)\n",
    "    })\n",
    "\n",
    "# DataFrame com resultados\n",
    "import pandas as pd\n",
    "df_teste_t = pd.DataFrame(resultados_teste_t).sort_values('GrupoOcupacao')\n",
    "\n",
    "# Mostrar\n",
    "display(df_teste_t)\n"
   ]
  },
  {
   "cell_type": "code",
   "execution_count": null,
   "id": "167fdb5d-773b-4584-a2ca-4549e7db056d",
   "metadata": {},
   "outputs": [],
   "source": []
  }
 ],
 "metadata": {
  "kernelspec": {
   "display_name": "Python 3 (ipykernel)",
   "language": "python",
   "name": "python3"
  },
  "language_info": {
   "codemirror_mode": {
    "name": "ipython",
    "version": 3
   },
   "file_extension": ".py",
   "mimetype": "text/x-python",
   "name": "python",
   "nbconvert_exporter": "python",
   "pygments_lexer": "ipython3",
   "version": "3.13.5"
  }
 },
 "nbformat": 4,
 "nbformat_minor": 5
}
