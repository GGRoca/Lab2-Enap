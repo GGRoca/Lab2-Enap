{
 "cells": [
  {
   "cell_type": "code",
   "execution_count": 2,
   "id": "d8024492-c929-48ff-b8ac-40b654aa9945",
   "metadata": {
    "tags": []
   },
   "outputs": [],
   "source": [
    "# %%\n",
    "# =============================================================================\n",
    "# Passo 1: Importação de Bibliotecas\n",
    "# =============================================================================\n",
    "\n",
    "# Bibliotecas padrão\n",
    "import csv\n",
    "import gc\n",
    "from pathlib import Path\n",
    "\n",
    "# Bibliotecas de terceiros para análise e manipulação de dados\n",
    "import numpy as np\n",
    "import pandas as pd\n",
    "import openpyxl\n",
    "from scipy.stats import skew, kurtosis, ttest_ind\n",
    "\n",
    "# Bibliotecas para visualização de dados\n",
    "import matplotlib.pyplot as plt\n",
    "import seaborn as sns\n",
    "\n",
    "# Ferramentas de pré-processamento do Scikit-learn\n",
    "from sklearn.preprocessing import (\n",
    "    MinMaxScaler,\n",
    "    PowerTransformer,\n",
    "    RobustScaler,\n",
    "    StandardScaler,\n",
    ")"
   ]
  },
  {
   "cell_type": "code",
   "execution_count": 3,
   "id": "48b7eb85-f0d1-4bf9-a509-ddb7780109d0",
   "metadata": {
    "tags": []
   },
   "outputs": [],
   "source": [
    "# %%\n",
    "# =============================================================================\n",
    "# Passo 2: Carregamento e Concatenação dos Dados\n",
    "# =============================================================================\n",
    "\n",
    "# --- Funções de Leitura Robusta (sem alteração) ---\n",
    "def detectar_delimitador(caminho_arquivo: Path, tamanho_amostra: int = 65536) -> str:\n",
    "    with caminho_arquivo.open(\"rb\") as f:\n",
    "        amostra = f.read(tamanho_amostra)\n",
    "    for enc in (\"utf-8\", \"latin-1\", \"cp1252\"):\n",
    "        try:\n",
    "            texto = amostra.decode(enc, errors=\"strict\")\n",
    "            dialect = csv.Sniffer().sniff(texto, delimiters=\";,\")\n",
    "            return dialect.delimiter\n",
    "        except Exception:\n",
    "            continue\n",
    "    return \";\"\n",
    "\n",
    "def ler_csv_robusto(caminho_arquivo: Path) -> pd.DataFrame:\n",
    "    sep_detectado = detectar_delimitador(caminho_arquivo)\n",
    "    encodings = (\"utf-8-sig\", \"utf-8\", \"latin-1\", \"cp1252\")\n",
    "    erros = []\n",
    "    for enc in encodings:\n",
    "        try:\n",
    "            # Usar low_memory=False para evitar inferência de tipo por chuncks, prevenindo erros\n",
    "            return pd.read_csv(caminho_arquivo, sep=sep_detectado, encoding=enc, low_memory=False, engine=\"c\")\n",
    "        except Exception as e:\n",
    "            erros.append((f\"engine=c | {enc}\", str(e)))\n",
    "    \n",
    "    # Fallback para engine python se o 'c' falhar\n",
    "    for enc in encodings:\n",
    "        try:\n",
    "            return pd.read_csv(caminho_arquivo, sep=sep_detectado, encoding=enc, engine=\"python\", on_bad_lines=\"skip\")\n",
    "        except Exception as e:\n",
    "            erros.append((f\"engine=python | {enc}\", str(e)))\n",
    "            \n",
    "    msg = f\"Falha ao ler {caminho_arquivo.name}. Erros:\\\\n\" + \"\\\\n\".join([f\" - {ctx}: {err}\" for ctx, err in erros])\n",
    "    raise RuntimeError(msg)\n",
    "\n"
   ]
  },
  {
   "cell_type": "code",
   "execution_count": 4,
   "id": "b703fffd-e364-44fe-b213-aaf425a9a650",
   "metadata": {
    "tags": []
   },
   "outputs": [
    {
     "name": "stdout",
     "output_type": "stream",
     "text": [
      "Arquivos encontrados: 11\n",
      "[1/11] Lendo: RAIS_2014_Enap_amostra.csv ... ok (1128887 linhas, 37 colunas)\n",
      "[2/11] Lendo: RAIS_2015_Enap_amostra.csv ... ok (1090572 linhas, 37 colunas)\n",
      "[3/11] Lendo: RAIS_2016_Enap_amostra.csv ... ok (726162 linhas, 37 colunas)\n",
      "[4/11] Lendo: RAIS_2017_Enap_amostra.csv ... ok (1073850 linhas, 37 colunas)\n",
      "[5/11] Lendo: RAIS_2018_Enap_amostra.csv ... ok (1082710 linhas, 37 colunas)\n",
      "[6/11] Lendo: RAIS_2019_Enap_amostra.csv ... ok (796532 linhas, 37 colunas)\n",
      "[7/11] Lendo: RAIS_2020_Enap_amostra.csv ... ok (1109627 linhas, 37 colunas)\n",
      "[8/11] Lendo: RAIS_2021_Enap_amostra.csv ... ok (1199769 linhas, 37 colunas)\n",
      "[9/11] Lendo: RAIS_2022_Enap_amostra.csv ... ok (1245516 linhas, 37 colunas)\n",
      "[10/11] Lendo: RAIS_2023_Enap_amostra.csv ... ok (1328596 linhas, 37 colunas)\n",
      "[11/11] Lendo: RAIS_2024_Enap_amostra.csv ... ok (985182 linhas, 37 colunas)\n",
      "\\nConcatenando DataFrames...\n",
      "Dimensão final: (11767403, 37)\n"
     ]
    }
   ],
   "source": [
    "# --- Processo de Leitura e Concatenação ---\n",
    "\n",
    "# Caminho para a pasta com os arquivos CSV\n",
    "pasta_csvs = Path.cwd() / \"Bases\" / \"0_RAIS_Bases_Amostra\" / \"RAIS_Enap_amostra_\"\n",
    "assert pasta_csvs.exists(), f\"Pasta não encontrada: {pasta_csvs}\"\n",
    "\n",
    "# Listar e ler os arquivos\n",
    "arquivos_csv = sorted([p for p in pasta_csvs.glob(\"*.csv\")])\n",
    "if not arquivos_csv:\n",
    "    raise FileNotFoundError(\"Nenhum CSV encontrado na pasta indicada.\")\n",
    "\n",
    "print(f\"Arquivos encontrados: {len(arquivos_csv)}\")\n",
    "dataframes = []\n",
    "for idx, arq in enumerate(arquivos_csv, start=1):\n",
    "    print(f\"[{idx}/{len(arquivos_csv)}] Lendo: {arq.name} ...\", end=\"\")\n",
    "    df_tmp = ler_csv_robusto(arq)\n",
    "    dataframes.append(df_tmp)\n",
    "    print(f\" ok ({df_tmp.shape[0]} linhas, {df_tmp.shape[1]} colunas)\")\n",
    "\n",
    "# Concatena todos os DataFrames em um só\n",
    "print(\"\\\\nConcatenando DataFrames...\")\n",
    "df = pd.concat(dataframes, ignore_index=True)\n",
    "print(\"Dimensão final:\", df.shape)\n",
    "\n"
   ]
  },
  {
   "cell_type": "code",
   "execution_count": 5,
   "id": "63f9f801-34ae-4bf8-94c1-55e8c4fb1a04",
   "metadata": {
    "tags": []
   },
   "outputs": [
    {
     "name": "stdout",
     "output_type": "stream",
     "text": [
      "Memória liberada.\n"
     ]
    }
   ],
   "source": [
    "# --- Otimização de Memória ---\n",
    "# Remove a lista de dataframes e o dataframe temporário da memória\n",
    "del dataframes\n",
    "del df_tmp\n",
    "gc.collect() # Executa o garbage collector para liberar memória\n",
    "print(\"Memória liberada.\")\n"
   ]
  },
  {
   "cell_type": "code",
   "execution_count": 6,
   "id": "3826f4f9-a909-4224-87a4-aab4871472f3",
   "metadata": {
    "tags": []
   },
   "outputs": [
    {
     "name": "stdout",
     "output_type": "stream",
     "text": [
      "Colunas removidas: 15. Shape após remoção: (11767403, 22)\n"
     ]
    }
   ],
   "source": [
    "# %%\n",
    "# =============================================================================\n",
    "# Passo 3: Limpeza, Filtragem e Transformação dos Dados (Versão Corrigida)\n",
    "# =============================================================================\n",
    "\n",
    "# --- 3.1: Remoção de Colunas Desnecessárias ---\n",
    "colunas_para_remover = [\n",
    "    \"VinculoAtivo\", \"NRMesDesligamento\", \"TPAdmissao\", \"TPEstabelecimento\", \n",
    "    \"TPDeficiencia\", \"CDCausaAfastamento1\", \"CDCausaAfastamento2\", \"CDCausaAfastamento3\", \n",
    "    \"INTrabIntermitente\", \"VLRemunDezembroNom\", \"VLRemunDezembroSM\", \"VLSalarioContratual\",\n",
    "    \"NRCNPJCEI\", \"NRCNPJRaiz\", \"CDCNAE20Subclasse\"\n",
    "]\n",
    "existentes = [c for c in colunas_para_remover if c in df.columns]\n",
    "df.drop(columns=existentes, inplace=True)\n",
    "gc.collect()\n",
    "print(f\"Colunas removidas: {len(existentes)}. Shape após remoção: {df.shape}\")\n"
   ]
  },
  {
   "cell_type": "code",
   "execution_count": 7,
   "id": "ebc06fab-1ebd-4db3-9344-5b0a835e6535",
   "metadata": {
    "tags": []
   },
   "outputs": [
    {
     "name": "stdout",
     "output_type": "stream",
     "text": [
      "Convertendo tipos de dados...\n"
     ]
    }
   ],
   "source": [
    "# --- 3.2: Conversão de Tipos de Dados ---\n",
    "print(\"Convertendo tipos de dados...\")\n",
    "colunas_categoricas = [\n",
    "    \"CDDesligamento\", \"CDGrauEscolaridade\", \"CDNaturezaJuridica\", \"CDRacaCor\", \n",
    "    \"CDSexo\", \"CDTamanhoEstabelecimento\", \"INPortadorDefic\", \"INTrabParcial\", \n",
    "    \"TPVinculo\", \"CDCNAE20Classe\", \"CDMunicipio\"\n",
    "]\n",
    "for col in colunas_categoricas:\n",
    "    if col in df.columns:\n",
    "        df[col] = df[col].astype(\"category\")\n",
    "\n",
    "if \"DTAdmissaoDeclarada\" in df.columns:\n",
    "    df[\"DTAdmissaoDeclarada\"] = pd.to_datetime(df[\"DTAdmissaoDeclarada\"], errors='coerce', dayfirst=True)\n",
    "\n",
    "# CORREÇÃO: Força a coluna CBO para string ANTES de qualquer outra operação\n",
    "# Isso evita o erro de conversão para int no momento de salvar o Parquet.\n",
    "if 'CDCBOOcupacao2002' in df.columns:\n",
    "    df['CDCBOOcupacao2002'] = df['CDCBOOcupacao2002'].astype(str)"
   ]
  },
  {
   "cell_type": "code",
   "execution_count": 8,
   "id": "d2ad795b-3ca8-49dd-8a95-a4ae18caf442",
   "metadata": {
    "tags": []
   },
   "outputs": [
    {
     "name": "stdout",
     "output_type": "stream",
     "text": [
      "Limpando outliers de remuneração...\n",
      "Shape após limpeza de salários: (11357549, 22)\n"
     ]
    }
   ],
   "source": [
    "# --- 3.3: Limpeza de Salários (Outliers) ---\n",
    "print(\"Limpando outliers de remuneração...\")\n",
    "df.dropna(subset=[\"VLRemunMediaNom\"], inplace=True)\n",
    "df = df[(df[\"VLRemunMediaSM\"] >= 0.3) & (df[\"VLRemunMediaSM\"] <= 150)]\n",
    "print(f\"Shape após limpeza de salários: {df.shape}\")\n"
   ]
  },
  {
   "cell_type": "code",
   "execution_count": 9,
   "id": "8521ab40-c11f-4a0f-af8a-e6f464291d90",
   "metadata": {
    "tags": []
   },
   "outputs": [
    {
     "name": "stdout",
     "output_type": "stream",
     "text": [
      "Criando novas colunas...\n"
     ]
    }
   ],
   "source": [
    "# --- 3.4: Criação de Novas Colunas (Features) ---\n",
    "print(\"Criando novas colunas...\")\n",
    "df['log_VLRemunMediaNom'] = np.log1p(df['VLRemunMediaNom'])\n",
    "\n",
    "ocupacoes_map = {\n",
    "    '0': 'FORÇAS ARMADAS, POLICIAIS E BOMBEIROS', '1': 'DIRIGENTES E GERENTES',\n",
    "    '2': 'CIÊNCIAS E ARTES', '3': 'TÉCNICOS DE NÍVEL MÉDIO', '4': 'SERVIÇOS ADMINISTRATIVOS',\n",
    "    '5': 'SERVIÇOS E VENDEDORES', '6': 'AGROPECUÁRIOS E PESCA', '7': 'PRODUÇÃO INDUSTRIAL (1)',\n",
    "    '8': 'PRODUÇÃO INDUSTRIAL (2)', '9': 'REPARAÇÃO E MANUTENÇÃO'\n",
    "}\n",
    "df['GrupoOcupacao'] = df['CDCBOOcupacao2002'].str[0].map(ocupacoes_map).astype(\"category\")\n"
   ]
  },
  {
   "cell_type": "code",
   "execution_count": 10,
   "id": "d9ce5dd9-7038-468a-969d-d0d67bdc6280",
   "metadata": {
    "tags": []
   },
   "outputs": [
    {
     "name": "stdout",
     "output_type": "stream",
     "text": [
      "Filtrando registros apenas das capitais...\n",
      "Pré-processamento concluído. Shape final do DataFrame de análise: (4257681, 24)\n"
     ]
    }
   ],
   "source": [
    "# --- 3.5: Filtragem por Capitais ---\n",
    "print(\"Filtrando registros apenas das capitais...\")\n",
    "codigos_capitais = [\n",
    "    431490, 330455, 520870, 355030, 250750, 261160, 221100, 292740, 510340, 150140, \n",
    "    410690, 270430, 230440, 240810, 280030, 110020, 120040, 130260, 500270, 310620, \n",
    "    421660, 172100, 160060, 211130, 320530, 530010\n",
    "]\n",
    "df['CDMunicipio'] = df['CDMunicipio'].astype('int64')\n",
    "df = df[df['CDMunicipio'].isin(codigos_capitais)].copy()\n",
    "gc.collect()\n",
    "print(f\"Pré-processamento concluído. Shape final do DataFrame de análise: {df.shape}\")\n"
   ]
  },
  {
   "cell_type": "code",
   "execution_count": 11,
   "id": "0726892c-8203-4164-b48c-35c1c4882892",
   "metadata": {
    "tags": []
   },
   "outputs": [
    {
     "name": "stdout",
     "output_type": "stream",
     "text": [
      "DataFrame final salvo com sucesso em: C:\\Users\\Guilherme\\OneDrive\\Cursos\\ENAP\\MBA em Inteligência Artificial\\Disciplinas\\18 - Lab 02\\Bases\\0_RAIS_Bases_Amostra\\RAIS_Enap_amostra_\\RAIS_CAPITAIS_PROCESSADO.parquet\n"
     ]
    }
   ],
   "source": [
    "# %%\n",
    "# =============================================================================\n",
    "# Passo 4: Salvamento do DataFrame Processado\n",
    "# =============================================================================\n",
    "saida_parquet = pasta_csvs / \"RAIS_CAPITAIS_PROCESSADO.parquet\"\n",
    "df.to_parquet(saida_parquet, index=False, engine=\"pyarrow\", compression=\"snappy\")\n",
    "\n",
    "print(f\"DataFrame final salvo com sucesso em: {saida_parquet}\")"
   ]
  },
  {
   "cell_type": "code",
   "execution_count": 12,
   "id": "b43a800a-5282-4002-bfd7-f4d2b0c96f4d",
   "metadata": {
    "tags": []
   },
   "outputs": [
    {
     "name": "stdout",
     "output_type": "stream",
     "text": [
      "Tipos de dados do DataFrame final:\n",
      "<class 'pandas.core.frame.DataFrame'>\n",
      "Index: 4257681 entries, 1 to 11767401\n",
      "Data columns (total 24 columns):\n",
      " #   Column                    Dtype         \n",
      "---  ------                    -----         \n",
      " 0   NRANO                     int64         \n",
      " 1   CDMunicipio               int64         \n",
      " 2   TPVinculo                 category      \n",
      " 3   CDDesligamento            category      \n",
      " 4   TPSalario                 float64       \n",
      " 5   CDGrauEscolaridade        category      \n",
      " 6   CDSexo                    category      \n",
      " 7   CDRacaCor                 category      \n",
      " 8   INPortadorDefic           category      \n",
      " 9   CDTamanhoEstabelecimento  category      \n",
      " 10  CDNaturezaJuridica        category      \n",
      " 11  DTAdmissaoDeclarada       datetime64[ns]\n",
      " 12  VLRemunMediaNom           float64       \n",
      " 13  VLRemunMediaSM            float64       \n",
      " 14  NRTempoEmprego            float64       \n",
      " 15  NRQtdHoraContr            float64       \n",
      " 16  CDCBOOcupacao2002         object        \n",
      " 17  CDCNAE20Classe            category      \n",
      " 18  NRIdade                   float64       \n",
      " 19  INTrabParcial             category      \n",
      " 20  Estoque_Total             float64       \n",
      " 21  Estoque_Fem               float64       \n",
      " 22  log_VLRemunMediaNom       float64       \n",
      " 23  GrupoOcupacao             category      \n",
      "dtypes: category(11), datetime64[ns](1), float64(9), int64(2), object(1)\n",
      "memory usage: 503.5+ MB\n"
     ]
    },
    {
     "data": {
      "text/plain": [
       "None"
      ]
     },
     "metadata": {},
     "output_type": "display_data"
    },
    {
     "name": "stdout",
     "output_type": "stream",
     "text": [
      "\\nVisualização das primeiras linhas:\n"
     ]
    },
    {
     "data": {
      "text/html": [
       "<div>\n",
       "<style scoped>\n",
       "    .dataframe tbody tr th:only-of-type {\n",
       "        vertical-align: middle;\n",
       "    }\n",
       "\n",
       "    .dataframe tbody tr th {\n",
       "        vertical-align: top;\n",
       "    }\n",
       "\n",
       "    .dataframe thead th {\n",
       "        text-align: right;\n",
       "    }\n",
       "</style>\n",
       "<table border=\"1\" class=\"dataframe\">\n",
       "  <thead>\n",
       "    <tr style=\"text-align: right;\">\n",
       "      <th></th>\n",
       "      <th>NRANO</th>\n",
       "      <th>CDMunicipio</th>\n",
       "      <th>TPVinculo</th>\n",
       "      <th>CDDesligamento</th>\n",
       "      <th>TPSalario</th>\n",
       "      <th>CDGrauEscolaridade</th>\n",
       "      <th>CDSexo</th>\n",
       "      <th>CDRacaCor</th>\n",
       "      <th>INPortadorDefic</th>\n",
       "      <th>CDTamanhoEstabelecimento</th>\n",
       "      <th>CDNaturezaJuridica</th>\n",
       "      <th>DTAdmissaoDeclarada</th>\n",
       "      <th>VLRemunMediaNom</th>\n",
       "      <th>VLRemunMediaSM</th>\n",
       "      <th>NRTempoEmprego</th>\n",
       "      <th>NRQtdHoraContr</th>\n",
       "      <th>CDCBOOcupacao2002</th>\n",
       "      <th>CDCNAE20Classe</th>\n",
       "      <th>NRIdade</th>\n",
       "      <th>INTrabParcial</th>\n",
       "      <th>Estoque_Total</th>\n",
       "      <th>Estoque_Fem</th>\n",
       "      <th>log_VLRemunMediaNom</th>\n",
       "      <th>GrupoOcupacao</th>\n",
       "    </tr>\n",
       "  </thead>\n",
       "  <tbody>\n",
       "    <tr>\n",
       "      <th>1</th>\n",
       "      <td>2014</td>\n",
       "      <td>530010</td>\n",
       "      <td>30</td>\n",
       "      <td>0.0</td>\n",
       "      <td>1.0</td>\n",
       "      <td>9.0</td>\n",
       "      <td>2.0</td>\n",
       "      <td>99.0</td>\n",
       "      <td>0.0</td>\n",
       "      <td>10.0</td>\n",
       "      <td>1040.0</td>\n",
       "      <td>2005-04-03</td>\n",
       "      <td>23283.31</td>\n",
       "      <td>32.15</td>\n",
       "      <td>117.8</td>\n",
       "      <td>40.0</td>\n",
       "      <td>111405</td>\n",
       "      <td>84116.0</td>\n",
       "      <td>38.0</td>\n",
       "      <td>0.0</td>\n",
       "      <td>6135.0</td>\n",
       "      <td>2523.0</td>\n",
       "      <td>10.055535</td>\n",
       "      <td>DIRIGENTES E GERENTES</td>\n",
       "    </tr>\n",
       "    <tr>\n",
       "      <th>8</th>\n",
       "      <td>2014</td>\n",
       "      <td>130260</td>\n",
       "      <td>10</td>\n",
       "      <td>0.0</td>\n",
       "      <td>1.0</td>\n",
       "      <td>7.0</td>\n",
       "      <td>1.0</td>\n",
       "      <td>8.0</td>\n",
       "      <td>0.0</td>\n",
       "      <td>8.0</td>\n",
       "      <td>2062.0</td>\n",
       "      <td>NaT</td>\n",
       "      <td>749.30</td>\n",
       "      <td>1.03</td>\n",
       "      <td>22.3</td>\n",
       "      <td>44.0</td>\n",
       "      <td>412205</td>\n",
       "      <td>53202.0</td>\n",
       "      <td>27.0</td>\n",
       "      <td>0.0</td>\n",
       "      <td>345.0</td>\n",
       "      <td>252.0</td>\n",
       "      <td>6.620473</td>\n",
       "      <td>SERVIÇOS ADMINISTRATIVOS</td>\n",
       "    </tr>\n",
       "    <tr>\n",
       "      <th>9</th>\n",
       "      <td>2014</td>\n",
       "      <td>211130</td>\n",
       "      <td>10</td>\n",
       "      <td>0.0</td>\n",
       "      <td>1.0</td>\n",
       "      <td>7.0</td>\n",
       "      <td>1.0</td>\n",
       "      <td>8.0</td>\n",
       "      <td>1.0</td>\n",
       "      <td>8.0</td>\n",
       "      <td>2062.0</td>\n",
       "      <td>NaT</td>\n",
       "      <td>1082.88</td>\n",
       "      <td>1.49</td>\n",
       "      <td>15.3</td>\n",
       "      <td>44.0</td>\n",
       "      <td>784205</td>\n",
       "      <td>10929.0</td>\n",
       "      <td>37.0</td>\n",
       "      <td>0.0</td>\n",
       "      <td>433.0</td>\n",
       "      <td>181.0</td>\n",
       "      <td>6.988302</td>\n",
       "      <td>PRODUÇÃO INDUSTRIAL (1)</td>\n",
       "    </tr>\n",
       "    <tr>\n",
       "      <th>18</th>\n",
       "      <td>2014</td>\n",
       "      <td>355030</td>\n",
       "      <td>10</td>\n",
       "      <td>0.0</td>\n",
       "      <td>1.0</td>\n",
       "      <td>9.0</td>\n",
       "      <td>2.0</td>\n",
       "      <td>2.0</td>\n",
       "      <td>0.0</td>\n",
       "      <td>9.0</td>\n",
       "      <td>1112.0</td>\n",
       "      <td>NaT</td>\n",
       "      <td>11864.12</td>\n",
       "      <td>16.38</td>\n",
       "      <td>378.1</td>\n",
       "      <td>40.0</td>\n",
       "      <td>239410</td>\n",
       "      <td>85325.0</td>\n",
       "      <td>49.0</td>\n",
       "      <td>0.0</td>\n",
       "      <td>516.0</td>\n",
       "      <td>273.0</td>\n",
       "      <td>9.381358</td>\n",
       "      <td>CIÊNCIAS E ARTES</td>\n",
       "    </tr>\n",
       "    <tr>\n",
       "      <th>23</th>\n",
       "      <td>2014</td>\n",
       "      <td>250750</td>\n",
       "      <td>10</td>\n",
       "      <td>0.0</td>\n",
       "      <td>1.0</td>\n",
       "      <td>9.0</td>\n",
       "      <td>1.0</td>\n",
       "      <td>2.0</td>\n",
       "      <td>0.0</td>\n",
       "      <td>7.0</td>\n",
       "      <td>2062.0</td>\n",
       "      <td>1991-01-03</td>\n",
       "      <td>10047.07</td>\n",
       "      <td>13.87</td>\n",
       "      <td>285.9</td>\n",
       "      <td>44.0</td>\n",
       "      <td>142305</td>\n",
       "      <td>60217.0</td>\n",
       "      <td>72.0</td>\n",
       "      <td>0.0</td>\n",
       "      <td>216.0</td>\n",
       "      <td>75.0</td>\n",
       "      <td>9.215136</td>\n",
       "      <td>DIRIGENTES E GERENTES</td>\n",
       "    </tr>\n",
       "  </tbody>\n",
       "</table>\n",
       "</div>"
      ],
      "text/plain": [
       "    NRANO  CDMunicipio TPVinculo CDDesligamento  TPSalario CDGrauEscolaridade CDSexo CDRacaCor INPortadorDefic CDTamanhoEstabelecimento CDNaturezaJuridica  \\\n",
       "1    2014       530010        30            0.0        1.0                9.0    2.0      99.0             0.0                     10.0             1040.0   \n",
       "8    2014       130260        10            0.0        1.0                7.0    1.0       8.0             0.0                      8.0             2062.0   \n",
       "9    2014       211130        10            0.0        1.0                7.0    1.0       8.0             1.0                      8.0             2062.0   \n",
       "18   2014       355030        10            0.0        1.0                9.0    2.0       2.0             0.0                      9.0             1112.0   \n",
       "23   2014       250750        10            0.0        1.0                9.0    1.0       2.0             0.0                      7.0             2062.0   \n",
       "\n",
       "   DTAdmissaoDeclarada  VLRemunMediaNom  VLRemunMediaSM  NRTempoEmprego  NRQtdHoraContr CDCBOOcupacao2002 CDCNAE20Classe  NRIdade INTrabParcial  \\\n",
       "1           2005-04-03         23283.31           32.15           117.8            40.0            111405        84116.0     38.0           0.0   \n",
       "8                  NaT           749.30            1.03            22.3            44.0            412205        53202.0     27.0           0.0   \n",
       "9                  NaT          1082.88            1.49            15.3            44.0            784205        10929.0     37.0           0.0   \n",
       "18                 NaT         11864.12           16.38           378.1            40.0            239410        85325.0     49.0           0.0   \n",
       "23          1991-01-03         10047.07           13.87           285.9            44.0            142305        60217.0     72.0           0.0   \n",
       "\n",
       "    Estoque_Total  Estoque_Fem  log_VLRemunMediaNom             GrupoOcupacao  \n",
       "1          6135.0       2523.0            10.055535     DIRIGENTES E GERENTES  \n",
       "8           345.0        252.0             6.620473  SERVIÇOS ADMINISTRATIVOS  \n",
       "9           433.0        181.0             6.988302   PRODUÇÃO INDUSTRIAL (1)  \n",
       "18          516.0        273.0             9.381358          CIÊNCIAS E ARTES  \n",
       "23          216.0         75.0             9.215136     DIRIGENTES E GERENTES  "
      ]
     },
     "metadata": {},
     "output_type": "display_data"
    }
   ],
   "source": [
    "# %%\n",
    "# =============================================================================\n",
    "# Passo 5: Análise Exploratória e Testes de Hipóteses\n",
    "# =============================================================================\n",
    "\n",
    "# Configurações de exibição do Pandas\n",
    "pd.set_option(\"display.max_rows\", 100)\n",
    "pd.set_option(\"display.max_columns\", 200)\n",
    "pd.set_option(\"display.width\", 160)\n",
    "\n",
    "# Verificação inicial dos dados\n",
    "print(\"Tipos de dados do DataFrame final:\")\n",
    "display(df.info())\n",
    "\n",
    "print(\"\\\\nVisualização das primeiras linhas:\")\n",
    "display(df.head())"
   ]
  },
  {
   "cell_type": "code",
   "execution_count": 13,
   "id": "4a502ff3-7e8d-4647-a808-282fcc204b6c",
   "metadata": {
    "tags": []
   },
   "outputs": [
    {
     "name": "stdout",
     "output_type": "stream",
     "text": [
      "Resumo estatístico:\n",
      "count    4257681.00\n",
      "mean        4430.63\n",
      "std         6556.31\n",
      "min          217.20\n",
      "1%           581.16\n",
      "5%           914.00\n",
      "25%         1460.60\n",
      "50%         2222.44\n",
      "75%         4463.25\n",
      "95%        15583.52\n",
      "99%        32883.11\n",
      "max       209000.00\n",
      "Name: VLRemunMediaNom, dtype: float64\n",
      "\n",
      "Assimetria (skew): 5.939  |  Curtose (kurtosis): 69.292\n",
      "Zeros absolutos: 0\n"
     ]
    },
    {
     "data": {
      "image/png": "[encoded data removed]",
      "text/plain": [
       "<Figure size 1000x400 with 1 Axes>"
      ]
     },
     "metadata": {},
     "output_type": "display_data"
    },
    {
     "data": {
      "image/png": "[encoded data removed]",
      "text/plain": [
       "<Figure size 1000x150 with 1 Axes>"
      ]
     },
     "metadata": {},
     "output_type": "display_data"
    }
   ],
   "source": [
    "# %% Análise univariada da variável VLRemunMediaNom (já filtrada)\n",
    "\n",
    "col = \"VLRemunMediaNom\"\n",
    "s = pd.to_numeric(df[col], errors=\"coerce\").dropna()\n",
    "\n",
    "print(\"Resumo estatístico:\")\n",
    "print(s.describe(percentiles=[.01,.05,.25,.5,.75,.95,.99]).round(2))\n",
    "print(f\"\\nAssimetria (skew): {s.skew():.3f}  |  Curtose (kurtosis): {s.kurt():.3f}\")\n",
    "print(f\"Zeros absolutos: {(s==0).sum()}\")\n",
    "\n",
    "# Histograma\n",
    "plt.figure(figsize=(10,4))\n",
    "sns.histplot(s, bins=100, kde=True)\n",
    "plt.title(\"Distribuição de VLRemunMediaNom\")\n",
    "plt.xlabel(\"Renda mensal nominal (em R$)\")\n",
    "plt.ylabel(\"Frequência\")\n",
    "plt.tight_layout()\n",
    "plt.show()\n",
    "\n",
    "# Boxplot\n",
    "plt.figure(figsize=(10,1.5))\n",
    "sns.boxplot(x=s)\n",
    "plt.title(\"Boxplot de VLRemunMediaNom\")\n",
    "plt.tight_layout()\n",
    "plt.show()\n"
   ]
  },
  {
   "cell_type": "code",
   "execution_count": 14,
   "id": "1170bf1b-f7a6-4962-9746-541f229c70c4",
   "metadata": {
    "tags": []
   },
   "outputs": [
    {
     "name": "stdout",
     "output_type": "stream",
     "text": [
      "Resumo estatístico da Remuneração (Pós-filtro):\n",
      "count    4257681.00\n",
      "mean        4430.63\n",
      "std         6556.31\n",
      "min          217.20\n",
      "1%           581.16\n",
      "5%           914.00\n",
      "25%         1460.60\n",
      "50%         2222.44\n",
      "75%         4463.25\n",
      "95%        15583.52\n",
      "99%        32883.11\n",
      "max       209000.00\n",
      "Name: VLRemunMediaNom, dtype: float64\n",
      "\\nAssimetria (skew): 5.939  |  Curtose (kurtosis): 69.292\n"
     ]
    }
   ],
   "source": [
    "# %% Análise univariada da variável VLRemunMediaNom (já filtrada)\n",
    "# Verificando a distribuição da remuneração após a limpeza de outliers.\n",
    "\n",
    "col = \"VLRemunMediaNom\"\n",
    "s = pd.to_numeric(df[col], errors=\"coerce\").dropna()\n",
    "\n",
    "print(\"Resumo estatístico da Remuneração (Pós-filtro):\")\n",
    "print(s.describe(percentiles=[.01, .05, .25, .5, .75, .95, .99]).round(2))\n",
    "print(f\"\\\\nAssimetria (skew): {s.skew():.3f}  |  Curtose (kurtosis): {s.kurt():.3f}\")\n"
   ]
  },
  {
   "cell_type": "code",
   "execution_count": 15,
   "id": "9d26c75d-c54e-42a0-80a1-3d0c665431a5",
   "metadata": {
    "tags": []
   },
   "outputs": [
    {
     "data": {
      "image/png": "[encoded data removed]",
      "text/plain": [
       "<Figure size 1200x500 with 1 Axes>"
      ]
     },
     "metadata": {},
     "output_type": "display_data"
    }
   ],
   "source": [
    "# Histograma\n",
    "plt.figure(figsize=(12, 5))\n",
    "sns.histplot(s, bins=100, kde=True)\n",
    "plt.title(\"Distribuição de VLRemunMediaNom (Pós-filtro)\")\n",
    "plt.xlabel(\"Renda mensal nominal (em R$)\")\n",
    "plt.ylabel(\"Frequência\")\n",
    "plt.tight_layout()\n",
    "plt.show()"
   ]
  },
  {
   "cell_type": "code",
   "execution_count": 16,
   "id": "3343b71a-f547-4abc-aaba-8f375b409619",
   "metadata": {
    "tags": []
   },
   "outputs": [],
   "source": [
    "# %% Etapa 3.6: Criação de um DataFrame para Normalização\n",
    "# Criamos uma cópia para aplicar as transformações sem alterar o DataFrame original.\n",
    "df_norm = df.copy()\n"
   ]
  },
  {
   "cell_type": "code",
   "execution_count": 17,
   "id": "e0c557ff-c98a-471e-9b44-9cf81f944b2f",
   "metadata": {
    "tags": []
   },
   "outputs": [],
   "source": [
    "scaler_robust = RobustScaler()\n",
    "df_norm['robust_VLRemunMediaNom'] = scaler_robust.fit_transform(df_norm[['VLRemunMediaNom']])\n"
   ]
  },
  {
   "cell_type": "code",
   "execution_count": 18,
   "id": "710025f2-d5a6-4fe6-972e-8f38ba03eb15",
   "metadata": {
    "tags": []
   },
   "outputs": [],
   "source": [
    "scaler_std = StandardScaler()\n",
    "df_norm['std_VLRemunMediaNom'] = scaler_std.fit_transform(df_norm[['VLRemunMediaNom']])\n"
   ]
  },
  {
   "cell_type": "code",
   "execution_count": 19,
   "id": "9681813c-bc3d-41d3-92df-7611a6e46622",
   "metadata": {
    "tags": []
   },
   "outputs": [],
   "source": [
    "scaler_minmax = MinMaxScaler()\n",
    "df_norm['minmax_VLRemunMediaNom'] = scaler_minmax.fit_transform(df_norm[['VLRemunMediaNom']])\n"
   ]
  },
  {
   "cell_type": "code",
   "execution_count": 20,
   "id": "9fe70b4a-0a55-462d-8773-5299a398f857",
   "metadata": {
    "tags": []
   },
   "outputs": [],
   "source": [
    "scaler_yeoj = PowerTransformer(method='yeo-johnson')\n",
    "df_norm['yeoj_VLRemunMediaNom'] = scaler_yeoj.fit_transform(df_norm[['VLRemunMediaNom']])\n"
   ]
  },
  {
   "cell_type": "code",
   "execution_count": 21,
   "id": "31b7a698-07cb-47fb-a94f-a1e48b826348",
   "metadata": {
    "tags": []
   },
   "outputs": [
    {
     "name": "stdout",
     "output_type": "stream",
     "text": [
      "📊 Skew e Curtose das transformações:\n",
      "VLRemunMediaNom                | Skew:   5.939 | Kurtosis:  69.292\n",
      "log_VLRemunMediaNom            | Skew:   0.861 | Kurtosis:   0.508\n",
      "robust_VLRemunMediaNom         | Skew:   5.939 | Kurtosis:  69.292\n",
      "std_VLRemunMediaNom            | Skew:   5.939 | Kurtosis:  69.292\n",
      "minmax_VLRemunMediaNom         | Skew:   5.939 | Kurtosis:  69.292\n",
      "yeoj_VLRemunMediaNom           | Skew:   0.038 | Kurtosis:  -0.101\n"
     ]
    },
    {
     "data": {
      "image/png": "[encoded data removed]",
      "text/plain": [
       "<Figure size 1800x1000 with 6 Axes>"
      ]
     },
     "metadata": {},
     "output_type": "display_data"
    }
   ],
   "source": [
    "# Avaliação estatística das transformações\n",
    "print(\"📊 Skew e Curtose das transformações:\")\n",
    "for col in [\n",
    "    'VLRemunMediaNom', 'log_VLRemunMediaNom', 'robust_VLRemunMediaNom',\n",
    "    'std_VLRemunMediaNom', 'minmax_VLRemunMediaNom', 'yeoj_VLRemunMediaNom'\n",
    "]:\n",
    "    skew_val = skew(df_norm[col])\n",
    "    kurt_val = kurtosis(df_norm[col])\n",
    "    print(f\"{col:<30} | Skew: {skew_val:>7.3f} | Kurtosis: {kurt_val:>7.3f}\")\n",
    "\n",
    "# %% Visualização das distribuições normalizadas\n",
    "fig, axs = plt.subplots(2, 3, figsize=(18, 10))\n"
   ]
  },
  {
   "cell_type": "code",
   "execution_count": 22,
   "id": "d8aba019-0235-4a68-b886-bf1b57d80a24",
   "metadata": {
    "tags": []
   },
   "outputs": [
    {
     "data": {
      "text/plain": [
       "<Figure size 640x480 with 0 Axes>"
      ]
     },
     "metadata": {},
     "output_type": "display_data"
    }
   ],
   "source": [
    "sns.histplot(df_norm['log_VLRemunMediaNom'], ax=axs[0, 0], kde=True).set(title='Log1p')\n",
    "sns.histplot(df_norm['robust_VLRemunMediaNom'], ax=axs[0, 1], kde=True).set(title='RobustScaler')\n",
    "sns.histplot(df_norm['std_VLRemunMediaNom'], ax=axs[0, 2], kde=True).set(title='StandardScaler')\n",
    "sns.histplot(df_norm['minmax_VLRemunMediaNom'], ax=axs[1, 0], kde=True).set(title='MinMaxScaler')\n",
    "sns.histplot(df_norm['yeoj_VLRemunMediaNom'], ax=axs[1, 1], kde=True).set(title='PowerTransformer (Yeo-Johnson)')\n",
    "sns.histplot(df_norm['VLRemunMediaNom'], ax=axs[1, 2], kde=True).set(title='Original')\n",
    "\n",
    "plt.tight_layout()\n",
    "plt.show()"
   ]
  },
  {
   "cell_type": "code",
   "execution_count": 23,
   "id": "5e020ef0-e407-410d-ae5c-4a2b1cd8fb98",
   "metadata": {
    "tags": []
   },
   "outputs": [
    {
     "ename": "NameError",
     "evalue": "name 'df_filtrado' is not defined",
     "output_type": "error",
     "traceback": [
      "\u001b[31m---------------------------------------------------------------------------\u001b[39m",
      "\u001b[31mNameError\u001b[39m                                 Traceback (most recent call last)",
      "\u001b[36mCell\u001b[39m\u001b[36m \u001b[39m\u001b[32mIn[23]\u001b[39m\u001b[32m, line 1\u001b[39m\n\u001b[32m----> \u001b[39m\u001b[32m1\u001b[39m df_filtrado.to_parquet(\u001b[33m\"\u001b[39m\u001b[33mdf_filtrado_log_VLRemunMediaNom.parquet\u001b[39m\u001b[33m\"\u001b[39m, index=\u001b[38;5;28;01mFalse\u001b[39;00m)\n",
      "\u001b[31mNameError\u001b[39m: name 'df_filtrado' is not defined"
     ]
    }
   ],
   "source": [
    "df_filtrado.to_parquet(\"df_filtrado_log_VLRemunMediaNom.parquet\", index=False)\n"
   ]
  },
  {
   "cell_type": "code",
   "execution_count": null,
   "id": "e88bd993-13b6-4253-ae30-6794de6e2f3e",
   "metadata": {
    "tags": []
   },
   "outputs": [],
   "source": [
    "\n",
    "# Reimportar o DataFrame a partir do arquivo Parquet\n",
    "df_filtrado = pd.read_parquet(\"df_filtrado_log_VLRemunMediaNom.parquet\")\n",
    "\n",
    "# Verificar as primeiras linhas\n",
    "df_filtrado.head()\n"
   ]
  },
  {
   "cell_type": "markdown",
   "id": "309bfd48-d271-48f4-b8cc-b334dc62020a",
   "metadata": {},
   "source": [
    "# Teste de hipóteses"
   ]
  },
  {
   "cell_type": "code",
   "execution_count": null,
   "id": "ca5e5b98-f0ed-4649-8e85-d49e03de5b4c",
   "metadata": {
    "tags": []
   },
   "outputs": [],
   "source": [
    "# Total antes do filtro\n",
    "total_antes = len(df_filtrado)\n",
    "\n",
    "# Proporção de valores nulos no campo de carga horária\n",
    "prop_nulos = df_filtrado['NRQtdHoraContr'].isna().mean()\n",
    "print(f'Proporção de valores nulos em NRQtdHoraContr: {prop_nulos:.2%}')\n",
    "\n",
    "# Remoção de nulos\n",
    "df_horas = df_filtrado.dropna(subset=['NRQtdHoraContr', 'CDSexo'])\n",
    "\n",
    "# Total após o filtro\n",
    "total_depois = len(df_horas)\n",
    "\n",
    "print(f'Total de registros antes do filtro: {total_antes:,}')\n",
    "print(f'Total de registros após o filtro:  {total_depois:,}')\n",
    "print(f'Total removido: {total_antes - total_depois:,}')\n"
   ]
  },
  {
   "cell_type": "code",
   "execution_count": null,
   "id": "cc2d171e-9414-4383-ac6b-e37a1b420577",
   "metadata": {
    "tags": []
   },
   "outputs": [],
   "source": [
    "df_horas['CDSexo'] = df_horas['CDSexo'].map({1: 'Masculino', 2: 'Feminino'})\n"
   ]
  },
  {
   "cell_type": "code",
   "execution_count": null,
   "id": "0da007fb-a765-4d24-aa2f-66613e549b3f",
   "metadata": {
    "tags": []
   },
   "outputs": [],
   "source": [
    "df_horas.groupby('CDSexo')['NRQtdHoraContr'].describe()\n"
   ]
  },
  {
   "cell_type": "code",
   "execution_count": null,
   "id": "e4803466-6e51-45b2-9055-108e68d76b4e",
   "metadata": {
    "tags": []
   },
   "outputs": [],
   "source": [
    "\n",
    "plt.figure(figsize=(8,5))\n",
    "sns.boxplot(x='CDSexo', y='NRQtdHoraContr', data=df_horas)\n",
    "plt.title(\"Distribuição da Carga Horária Contratada por Sexo\")\n",
    "plt.ylabel(\"Horas contratadas por semana\")\n",
    "plt.xlabel(\"Sexo\")\n",
    "plt.show()\n"
   ]
  },
  {
   "cell_type": "code",
   "execution_count": null,
   "id": "a1a0a68e-c57a-437d-96f5-b6ceb741620e",
   "metadata": {
    "tags": []
   },
   "outputs": [],
   "source": [
    "\n",
    "\n",
    "# Separação por sexo\n",
    "homens = df_horas[df_horas['CDSexo'] == 'Masculino']['NRQtdHoraContr']\n",
    "mulheres = df_horas[df_horas['CDSexo'] == 'Feminino']['NRQtdHoraContr']\n",
    "\n",
    "# Teste de diferença de médias\n",
    "t_stat, p_valor = ttest_ind(homens, mulheres, equal_var=False)\n",
    "\n",
    "\n",
    "print(f\"Estatística t = {t_stat:.3f}\")\n",
    "print(f\"p-valor = {p_valor:.4f}\")\n"
   ]
  },
  {
   "cell_type": "code",
   "execution_count": null,
   "id": "9b82f917-4f6c-41e8-a61e-a1f16f9d1691",
   "metadata": {
    "tags": []
   },
   "outputs": [],
   "source": [
    "sns.kdeplot(data=homens, label=\"Masculino\", fill=True)\n",
    "sns.kdeplot(data=mulheres, label=\"Feminino\", fill=True)\n",
    "plt.title(\"Distribuição da Carga Horária Contratada por Sexo\")\n",
    "plt.xlabel(\"NRQtdHoraContr\")\n",
    "plt.legend()\n",
    "plt.show()\n"
   ]
  },
  {
   "cell_type": "code",
   "execution_count": null,
   "id": "808eef67-98dc-4938-baaf-d90c86d04a33",
   "metadata": {
    "tags": []
   },
   "outputs": [],
   "source": [
    "# Após importar o parquet:\n",
    "df_filtrado = pd.read_parquet(\"df_filtrado_log_VLRemunMediaNom.parquet\")\n",
    "\n",
    "# Garantir tipo string\n",
    "df_filtrado['CDCBOOcupacao2002'] = df_filtrado['CDCBOOcupacao2002'].astype(str)\n",
    "\n",
    "# Recriar a coluna com base no dicionário\n",
    "ocupacoes_map = {\n",
    "    '0': 'MEMBROS DAS FORÇAS ARMADAS, POLICIAIS E BOMBEIROS MILITARES',\n",
    "    '1': 'MEMBROS SUPERIORES DO PODER PÚBLICO, DIRIGENTES, GERENTES',\n",
    "    '2': 'PROFISSIONAIS DAS CIÊNCIAS E DAS ARTES',\n",
    "    '3': 'TÉCNICOS DE NÍVEL MÉDIO',\n",
    "    '4': 'TRABALHADORES DE SERVIÇOS ADMINISTRATIVOS',\n",
    "    '5': 'TRABALHADORES DOS SERVIÇOS E VENDEDORES DO COMÉRCIO',\n",
    "    '6': 'TRABALHADORES AGROPECUÁRIOS, FLORESTAIS E DA PESCA',\n",
    "    '7': 'TRABALHADORES DA PRODUÇÃO INDUSTRIAL',\n",
    "    '8': 'TRABALHADORES DA PRODUÇÃO INDUSTRIAL',\n",
    "    '9': 'TRABALHADORES EM SERVIÇOS DE REPARAÇÃO E MANUTENÇÃO'\n",
    "}\n",
    "\n",
    "df_filtrado['GrupoOcupacao'] = df_filtrado['CDCBOOcupacao2002'].str[0].map(ocupacoes_map)\n"
   ]
  },
  {
   "cell_type": "code",
   "execution_count": null,
   "id": "86435f55-88f0-408a-ac3a-db9d7e0e9c1b",
   "metadata": {
    "tags": []
   },
   "outputs": [],
   "source": [
    "# Criação correta após garantir que df_filtrado tenha a coluna\n",
    "df_horas_filtrado = df_filtrado[df_filtrado['CDSexo'].isin([1, 2])]\n"
   ]
  },
  {
   "cell_type": "code",
   "execution_count": null,
   "id": "aa5c6608-bca9-4d7d-91b7-59fc4d3abafd",
   "metadata": {
    "tags": []
   },
   "outputs": [],
   "source": [
    "# Agrupar por grupo ocupacional e sexo\n",
    "grupo_sexo_stats = (\n",
    "    df_filtrado\n",
    "    .dropna(subset=['NRQtdHoraContr', 'CDSexo', 'GrupoOcupacao'])\n",
    "    .groupby(['GrupoOcupacao', 'CDSexo'])['NRQtdHoraContr']\n",
    "    .agg(['count', 'mean', 'std'])\n",
    "    .reset_index()\n",
    "    .sort_values(['GrupoOcupacao', 'CDSexo'])\n",
    ")\n",
    "\n",
    "# Mostrar resultados\n",
    "display(grupo_sexo_stats)\n"
   ]
  },
  {
   "cell_type": "code",
   "execution_count": null,
   "id": "e4f08952-3d0f-415a-88e4-cc4b54a510ec",
   "metadata": {
    "tags": []
   },
   "outputs": [],
   "source": [
    "\n",
    "# Tema visual elegante\n",
    "sns.set_theme(style=\"whitegrid\")\n",
    "\n",
    "# Número de grupos únicos\n",
    "grupos = df_horas_filtrado['GrupoOcupacao'].dropna().unique()\n",
    "num_grupos = len(grupos)\n",
    "\n",
    "# Altura do gráfico ajustada automaticamente\n",
    "altura = max(8, num_grupos * 0.7)  # aumento da altura\n",
    "\n",
    "plt.figure(figsize=(14, altura))  # aumento da largura também\n",
    "sns.boxplot(\n",
    "    data=df_horas_filtrado,\n",
    "    y='GrupoOcupacao',\n",
    "    x='NRQtdHoraContr',\n",
    "    hue='CDSexo',\n",
    "    orient='h',\n",
    "    palette='pastel',           # cores suaves e claras\n",
    "    fliersize=2                 # reduz tamanho dos marcadores de outliers\n",
    ")\n",
    "\n",
    "plt.title('Distribuição da Carga Horária por Grupo Ocupacional', fontsize=14)\n",
    "plt.xlabel('Carga Horária Contratada', fontsize=12)\n",
    "plt.ylabel('Grupo Ocupacional', fontsize=12)\n",
    "plt.xticks(fontsize=10)\n",
    "plt.yticks(fontsize=10)\n",
    "plt.legend(title='Sexo', labels=['Masculino (1)', 'Feminino (2)'], fontsize=10, title_fontsize=11, loc='lower right')\n",
    "plt.tight_layout()\n",
    "plt.show()\n"
   ]
  },
  {
   "cell_type": "code",
   "execution_count": null,
   "id": "030bec70-df67-4085-9a17-c982a5d25c95",
   "metadata": {
    "tags": []
   },
   "outputs": [],
   "source": [
    "\n",
    "# Reimporta o DataFrame\n",
    "df_horas_filtrado = pd.read_parquet(\"df_filtrado_log_VLRemunMediaNom.parquet\")\n",
    "\n",
    "# Ordena os grupos pela mediana da carga horária\n",
    "medianas = df_horas_filtrado.groupby(\"GrupoOcupacao\")[\"NRQtdHoraContr\"].median().sort_values()\n",
    "ordem = medianas.index.tolist()\n",
    "\n",
    "# Plot do boxplot aprimorado\n",
    "plt.figure(figsize=(10, 8))  # aumenta altura\n",
    "sns.set(style=\"whitegrid\")   # estilo limpo\n",
    "\n",
    "sns.boxplot(\n",
    "    data=df_horas_filtrado,\n",
    "    y=\"GrupoOcupacao\",\n",
    "    x=\"NRQtdHoraContr\",\n",
    "    hue=\"CDSexo\",\n",
    "    order=ordem,\n",
    "    showfliers=False,        # não mostra outliers\n",
    "    width=0.6                # largura das caixas\n",
    ")\n",
    "\n",
    "plt.title(\"Distribuição da Carga Horária por Grupo Ocupacional\", fontsize=14)\n",
    "plt.xlabel(\"Carga Horária Contratada\")\n",
    "plt.ylabel(\"Grupo Ocupacional\")\n",
    "plt.legend(title=\"Sexo\", labels=[\"Masculino (1)\", \"Feminino (2)\"], loc=\"lower right\")\n",
    "plt.tight_layout()\n",
    "plt.show()\n"
   ]
  },
  {
   "cell_type": "code",
   "execution_count": null,
   "id": "a629985d-0904-4dd1-83af-8f6290de2978",
   "metadata": {
    "tags": []
   },
   "outputs": [],
   "source": [
    "\n",
    "# Lista para armazenar os resultados\n",
    "resultados_teste_t = []\n",
    "\n",
    "# Laço por cada grupo\n",
    "for grupo in df_filtrado['GrupoOcupacao'].dropna().unique():\n",
    "    sub = df_filtrado.query(\"GrupoOcupacao == @grupo and not NRQtdHoraContr.isna() and not CDSexo.isna()\")\n",
    "\n",
    "    fem = sub.loc[sub['CDSexo'] == 'Feminino', 'NRQtdHoraContr']\n",
    "    masc = sub.loc[sub['CDSexo'] == 'Masculino', 'NRQtdHoraContr']\n",
    "    \n",
    "    # Teste t (sem assumir variâncias iguais)\n",
    "    t_stat, p_val = ttest_ind(masc, fem, equal_var=False)\n",
    "    \n",
    "    resultados_teste_t.append({\n",
    "        'GrupoOcupacao': grupo,\n",
    "        'Media_Masc': masc.mean(),\n",
    "        'Media_Fem': fem.mean(),\n",
    "        'Dif_Medias': masc.mean() - fem.mean(),\n",
    "        't_stat': t_stat,\n",
    "        'p_valor': p_val,\n",
    "        'N_Masc': len(masc),\n",
    "        'N_Fem': len(fem)\n",
    "    })\n",
    "\n",
    "# DataFrame com resultados\n",
    "import pandas as pd\n",
    "df_teste_t = pd.DataFrame(resultados_teste_t).sort_values('GrupoOcupacao')\n",
    "\n",
    "# Mostrar\n",
    "display(df_teste_t)\n"
   ]
  },
  {
   "cell_type": "code",
   "execution_count": null,
   "id": "167fdb5d-773b-4584-a2ca-4549e7db056d",
   "metadata": {},
   "outputs": [],
   "source": []
  }
 ],
 "metadata": {
  "kernelspec": {
   "display_name": "Python 3 (ipykernel)",
   "language": "python",
   "name": "python3"
  },
  "language_info": {
   "codemirror_mode": {
    "name": "ipython",
    "version": 3
   },
   "file_extension": ".py",
   "mimetype": "text/x-python",
   "name": "python",
   "nbconvert_exporter": "python",
   "pygments_lexer": "ipython3",
   "version": "3.13.5"
  }
 },
 "nbformat": 4,
 "nbformat_minor": 5
}
